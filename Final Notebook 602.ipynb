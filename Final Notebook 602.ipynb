{
  "nbformat": 4,
  "nbformat_minor": 0,
  "metadata": {
    "colab": {
      "name": "Copy of Project602_May1.ipynb",
      "provenance": [],
      "collapsed_sections": [
        "X_uYG8vTe3BQ",
        "B0Ux4yCs7Qk9",
        "GNvxssT0p_zl"
      ],
      "toc_visible": true
    },
    "kernelspec": {
      "display_name": "Python 3",
      "name": "python3"
    },
    "language_info": {
      "name": "python"
    }
  },
  "cells": [
    {
      "cell_type": "markdown",
      "metadata": {
        "id": "JDm0WM1c5TN5"
      },
      "source": [
        "**WAIT!! DONT RUN ALL YET!**"
      ]
    },
    {
      "cell_type": "markdown",
      "metadata": {
        "id": "ftdHtmvYg7Py"
      },
      "source": [
        "**Note**: To reduce runtime from nearly an hour to about 5 minutes, some model outputs are saved in pickled files. We had difficulty linking pickled models to notebook directly through github as colab has a bug with unzipping zip files that have been downloaded from other sources. To get the pickled model data, run the following code:"
      ]
    },
    {
      "cell_type": "code",
      "metadata": {
        "id": "hS4N_2HozoT6",
        "colab": {
          "base_uri": "https://localhost:8080/"
        },
        "outputId": "684657db-1ed3-41ca-e57f-2a26f650f86f"
      },
      "source": [
        "#!wget https://github.com/odibo1/DATA_602/blob/main/Pickle_Files.zip"
      ],
      "execution_count": null,
      "outputs": [
        {
          "output_type": "stream",
          "text": [
            "--2021-05-19 00:58:31--  https://github.com/odibo1/DATA_602/blob/main/Pickle_Files.zip\n",
            "Resolving github.com (github.com)... 140.82.113.3\n",
            "Connecting to github.com (github.com)|140.82.113.3|:443... connected.\n",
            "HTTP request sent, awaiting response... 200 OK\n",
            "Length: unspecified [text/html]\n",
            "Saving to: ‘Pickle_Files.zip.1’\n",
            "\n",
            "\rPickle_Files.zip.1      [<=>                 ]       0  --.-KB/s               \rPickle_Files.zip.1      [ <=>                ] 109.88K  --.-KB/s    in 0.004s  \n",
            "\n",
            "2021-05-19 00:58:32 (25.6 MB/s) - ‘Pickle_Files.zip.1’ saved [112520]\n",
            "\n"
          ],
          "name": "stdout"
        }
      ]
    },
    {
      "cell_type": "markdown",
      "metadata": {
        "id": "iBZ_RwXpzkoi"
      },
      "source": [
        "Then download the zipped file to local computer. Delete the zipped file from colab directory, and then reupload the zipped file from your local computer. From then, the entire notebook can be run with the previous cell commented out"
      ]
    },
    {
      "cell_type": "markdown",
      "metadata": {
        "id": "wjaiWQVN33gp"
      },
      "source": [
        "To create the pickled file folder, simply run the notebook without any commented codes in Section 2 and save the resulting files in a folder manually"
      ]
    },
    {
      "cell_type": "markdown",
      "metadata": {
        "id": "UgZ1_y-g4mYv"
      },
      "source": [
        "# **Final Project: Estimating Credit Risk of Individuals**\n",
        "Tchuissi Mbu Nyamsi, Seun Odibo, Adam Afilaka"
      ]
    },
    {
      "cell_type": "markdown",
      "metadata": {
        "id": "LGQNDOr547VM"
      },
      "source": [
        "# **Problem Statement**\n",
        "\n",
        "A functional economy is built on the availability of financing for business and personal activity. However, banks need to consider the possibility that individuals may not make credit payments at agreed upon times.\n",
        "\n",
        "**How can we predict the risk of defaulting on payments for new credit card applicants?**\n"
      ]
    },
    {
      "cell_type": "markdown",
      "metadata": {
        "id": "J64_-3jz42n3"
      },
      "source": [
        "## **I/ Data cleaning and preprocessing**"
      ]
    },
    {
      "cell_type": "markdown",
      "metadata": {
        "id": "CAolhNAw5Rts"
      },
      "source": [
        "### **1.1 Read and merge the data**"
      ]
    },
    {
      "cell_type": "code",
      "metadata": {
        "id": "SS3rk48SMp0d"
      },
      "source": [
        "import pandas as pd\n",
        "import numpy as np\n",
        "import matplotlib.pyplot as plt\n",
        "import seaborn as sns\n",
        "%matplotlib inline\n",
        "sns.set()"
      ],
      "execution_count": null,
      "outputs": []
    },
    {
      "cell_type": "code",
      "metadata": {
        "colab": {
          "base_uri": "https://localhost:8080/",
          "height": 266
        },
        "id": "Aq_1ECYmM6Kk",
        "outputId": "de470a64-eaf6-4484-e9ef-0e59a68ce175"
      },
      "source": [
        "# Read the first dataset that will be our features\n",
        "\n",
        "application = pd.read_csv(\"https://drive.google.com/uc?export=download&id=1_C4bj1-e_cMdwuogiCA10Bm3SzgSvKQd\")\n",
        "application.head()"
      ],
      "execution_count": null,
      "outputs": [
        {
          "output_type": "execute_result",
          "data": {
            "text/html": [
              "<div>\n",
              "<style scoped>\n",
              "    .dataframe tbody tr th:only-of-type {\n",
              "        vertical-align: middle;\n",
              "    }\n",
              "\n",
              "    .dataframe tbody tr th {\n",
              "        vertical-align: top;\n",
              "    }\n",
              "\n",
              "    .dataframe thead th {\n",
              "        text-align: right;\n",
              "    }\n",
              "</style>\n",
              "<table border=\"1\" class=\"dataframe\">\n",
              "  <thead>\n",
              "    <tr style=\"text-align: right;\">\n",
              "      <th></th>\n",
              "      <th>ID</th>\n",
              "      <th>CODE_GENDER</th>\n",
              "      <th>FLAG_OWN_CAR</th>\n",
              "      <th>FLAG_OWN_REALTY</th>\n",
              "      <th>CNT_CHILDREN</th>\n",
              "      <th>AMT_INCOME_TOTAL</th>\n",
              "      <th>NAME_INCOME_TYPE</th>\n",
              "      <th>NAME_EDUCATION_TYPE</th>\n",
              "      <th>NAME_FAMILY_STATUS</th>\n",
              "      <th>NAME_HOUSING_TYPE</th>\n",
              "      <th>DAYS_BIRTH</th>\n",
              "      <th>DAYS_EMPLOYED</th>\n",
              "      <th>FLAG_MOBIL</th>\n",
              "      <th>FLAG_WORK_PHONE</th>\n",
              "      <th>FLAG_PHONE</th>\n",
              "      <th>FLAG_EMAIL</th>\n",
              "      <th>OCCUPATION_TYPE</th>\n",
              "      <th>CNT_FAM_MEMBERS</th>\n",
              "    </tr>\n",
              "  </thead>\n",
              "  <tbody>\n",
              "    <tr>\n",
              "      <th>0</th>\n",
              "      <td>5008804</td>\n",
              "      <td>M</td>\n",
              "      <td>Y</td>\n",
              "      <td>Y</td>\n",
              "      <td>0</td>\n",
              "      <td>427500.0</td>\n",
              "      <td>Working</td>\n",
              "      <td>Higher education</td>\n",
              "      <td>Civil marriage</td>\n",
              "      <td>Rented apartment</td>\n",
              "      <td>-12005</td>\n",
              "      <td>-4542</td>\n",
              "      <td>1</td>\n",
              "      <td>1</td>\n",
              "      <td>0</td>\n",
              "      <td>0</td>\n",
              "      <td>NaN</td>\n",
              "      <td>2.0</td>\n",
              "    </tr>\n",
              "    <tr>\n",
              "      <th>1</th>\n",
              "      <td>5008805</td>\n",
              "      <td>M</td>\n",
              "      <td>Y</td>\n",
              "      <td>Y</td>\n",
              "      <td>0</td>\n",
              "      <td>427500.0</td>\n",
              "      <td>Working</td>\n",
              "      <td>Higher education</td>\n",
              "      <td>Civil marriage</td>\n",
              "      <td>Rented apartment</td>\n",
              "      <td>-12005</td>\n",
              "      <td>-4542</td>\n",
              "      <td>1</td>\n",
              "      <td>1</td>\n",
              "      <td>0</td>\n",
              "      <td>0</td>\n",
              "      <td>NaN</td>\n",
              "      <td>2.0</td>\n",
              "    </tr>\n",
              "    <tr>\n",
              "      <th>2</th>\n",
              "      <td>5008806</td>\n",
              "      <td>M</td>\n",
              "      <td>Y</td>\n",
              "      <td>Y</td>\n",
              "      <td>0</td>\n",
              "      <td>112500.0</td>\n",
              "      <td>Working</td>\n",
              "      <td>Secondary / secondary special</td>\n",
              "      <td>Married</td>\n",
              "      <td>House / apartment</td>\n",
              "      <td>-21474</td>\n",
              "      <td>-1134</td>\n",
              "      <td>1</td>\n",
              "      <td>0</td>\n",
              "      <td>0</td>\n",
              "      <td>0</td>\n",
              "      <td>Security staff</td>\n",
              "      <td>2.0</td>\n",
              "    </tr>\n",
              "    <tr>\n",
              "      <th>3</th>\n",
              "      <td>5008808</td>\n",
              "      <td>F</td>\n",
              "      <td>N</td>\n",
              "      <td>Y</td>\n",
              "      <td>0</td>\n",
              "      <td>270000.0</td>\n",
              "      <td>Commercial associate</td>\n",
              "      <td>Secondary / secondary special</td>\n",
              "      <td>Single / not married</td>\n",
              "      <td>House / apartment</td>\n",
              "      <td>-19110</td>\n",
              "      <td>-3051</td>\n",
              "      <td>1</td>\n",
              "      <td>0</td>\n",
              "      <td>1</td>\n",
              "      <td>1</td>\n",
              "      <td>Sales staff</td>\n",
              "      <td>1.0</td>\n",
              "    </tr>\n",
              "    <tr>\n",
              "      <th>4</th>\n",
              "      <td>5008809</td>\n",
              "      <td>F</td>\n",
              "      <td>N</td>\n",
              "      <td>Y</td>\n",
              "      <td>0</td>\n",
              "      <td>270000.0</td>\n",
              "      <td>Commercial associate</td>\n",
              "      <td>Secondary / secondary special</td>\n",
              "      <td>Single / not married</td>\n",
              "      <td>House / apartment</td>\n",
              "      <td>-19110</td>\n",
              "      <td>-3051</td>\n",
              "      <td>1</td>\n",
              "      <td>0</td>\n",
              "      <td>1</td>\n",
              "      <td>1</td>\n",
              "      <td>Sales staff</td>\n",
              "      <td>1.0</td>\n",
              "    </tr>\n",
              "  </tbody>\n",
              "</table>\n",
              "</div>"
            ],
            "text/plain": [
              "        ID CODE_GENDER  ... OCCUPATION_TYPE CNT_FAM_MEMBERS\n",
              "0  5008804           M  ...             NaN             2.0\n",
              "1  5008805           M  ...             NaN             2.0\n",
              "2  5008806           M  ...  Security staff             2.0\n",
              "3  5008808           F  ...     Sales staff             1.0\n",
              "4  5008809           F  ...     Sales staff             1.0\n",
              "\n",
              "[5 rows x 18 columns]"
            ]
          },
          "metadata": {
            "tags": []
          },
          "execution_count": 125
        }
      ]
    },
    {
      "cell_type": "code",
      "metadata": {
        "colab": {
          "base_uri": "https://localhost:8080/"
        },
        "id": "ij-sVrs4NAU6",
        "outputId": "87b7bd8f-2f5b-4c46-c612-db86b2c6993e"
      },
      "source": [
        "# how many unique ID in application record?\n",
        "len(set(application['ID']))"
      ],
      "execution_count": null,
      "outputs": [
        {
          "output_type": "execute_result",
          "data": {
            "text/plain": [
              "438510"
            ]
          },
          "metadata": {
            "tags": []
          },
          "execution_count": 126
        }
      ]
    },
    {
      "cell_type": "code",
      "metadata": {
        "colab": {
          "base_uri": "https://localhost:8080/",
          "height": 195
        },
        "id": "NZ0o-z8lNCvu",
        "outputId": "59bd9318-301a-4927-f41e-247215f53131"
      },
      "source": [
        "# Read the second dataset. The status column will represent our targets\n",
        "\n",
        "credit = pd.read_csv('https://drive.google.com/uc?export=download&id=1i3BwCpxWIGY4-7dszaEe2H33WBFlzqBp')\n",
        "credit.head()"
      ],
      "execution_count": null,
      "outputs": [
        {
          "output_type": "execute_result",
          "data": {
            "text/html": [
              "<div>\n",
              "<style scoped>\n",
              "    .dataframe tbody tr th:only-of-type {\n",
              "        vertical-align: middle;\n",
              "    }\n",
              "\n",
              "    .dataframe tbody tr th {\n",
              "        vertical-align: top;\n",
              "    }\n",
              "\n",
              "    .dataframe thead th {\n",
              "        text-align: right;\n",
              "    }\n",
              "</style>\n",
              "<table border=\"1\" class=\"dataframe\">\n",
              "  <thead>\n",
              "    <tr style=\"text-align: right;\">\n",
              "      <th></th>\n",
              "      <th>ID</th>\n",
              "      <th>MONTHS_BALANCE</th>\n",
              "      <th>STATUS</th>\n",
              "    </tr>\n",
              "  </thead>\n",
              "  <tbody>\n",
              "    <tr>\n",
              "      <th>0</th>\n",
              "      <td>5001711</td>\n",
              "      <td>0</td>\n",
              "      <td>X</td>\n",
              "    </tr>\n",
              "    <tr>\n",
              "      <th>1</th>\n",
              "      <td>5001711</td>\n",
              "      <td>-1</td>\n",
              "      <td>0</td>\n",
              "    </tr>\n",
              "    <tr>\n",
              "      <th>2</th>\n",
              "      <td>5001711</td>\n",
              "      <td>-2</td>\n",
              "      <td>0</td>\n",
              "    </tr>\n",
              "    <tr>\n",
              "      <th>3</th>\n",
              "      <td>5001711</td>\n",
              "      <td>-3</td>\n",
              "      <td>0</td>\n",
              "    </tr>\n",
              "    <tr>\n",
              "      <th>4</th>\n",
              "      <td>5001712</td>\n",
              "      <td>0</td>\n",
              "      <td>C</td>\n",
              "    </tr>\n",
              "  </tbody>\n",
              "</table>\n",
              "</div>"
            ],
            "text/plain": [
              "        ID  MONTHS_BALANCE STATUS\n",
              "0  5001711               0      X\n",
              "1  5001711              -1      0\n",
              "2  5001711              -2      0\n",
              "3  5001711              -3      0\n",
              "4  5001712               0      C"
            ]
          },
          "metadata": {
            "tags": []
          },
          "execution_count": 127
        }
      ]
    },
    {
      "cell_type": "code",
      "metadata": {
        "colab": {
          "base_uri": "https://localhost:8080/"
        },
        "id": "mfWRqMHJOz0N",
        "outputId": "27582b8e-adea-4575-cdc0-e1f9770767bb"
      },
      "source": [
        "# how many unique ID in credit record?\n",
        "len(set(credit['ID'])) "
      ],
      "execution_count": null,
      "outputs": [
        {
          "output_type": "execute_result",
          "data": {
            "text/plain": [
              "45985"
            ]
          },
          "metadata": {
            "tags": []
          },
          "execution_count": 128
        }
      ]
    },
    {
      "cell_type": "code",
      "metadata": {
        "colab": {
          "base_uri": "https://localhost:8080/"
        },
        "id": "YrrwNSj-O1QB",
        "outputId": "2c599fe0-9749-4094-c4d4-439e54063fc1"
      },
      "source": [
        "# how many IDs do two tables share?\n",
        "\n",
        "len(set(application['ID']).intersection(set(credit['ID']))) "
      ],
      "execution_count": null,
      "outputs": [
        {
          "output_type": "execute_result",
          "data": {
            "text/plain": [
              "36457"
            ]
          },
          "metadata": {
            "tags": []
          },
          "execution_count": 129
        }
      ]
    },
    {
      "cell_type": "code",
      "metadata": {
        "colab": {
          "base_uri": "https://localhost:8080/",
          "height": 215
        },
        "id": "n60SH6M1O9KR",
        "outputId": "5763662f-e4a2-4459-b5ac-4a43d3858073"
      },
      "source": [
        "# Combining the two files\n",
        "                        \n",
        "final= pd.merge(credit,application, on ='ID')\n",
        "final.head()  "
      ],
      "execution_count": null,
      "outputs": [
        {
          "output_type": "execute_result",
          "data": {
            "text/html": [
              "<div>\n",
              "<style scoped>\n",
              "    .dataframe tbody tr th:only-of-type {\n",
              "        vertical-align: middle;\n",
              "    }\n",
              "\n",
              "    .dataframe tbody tr th {\n",
              "        vertical-align: top;\n",
              "    }\n",
              "\n",
              "    .dataframe thead th {\n",
              "        text-align: right;\n",
              "    }\n",
              "</style>\n",
              "<table border=\"1\" class=\"dataframe\">\n",
              "  <thead>\n",
              "    <tr style=\"text-align: right;\">\n",
              "      <th></th>\n",
              "      <th>ID</th>\n",
              "      <th>MONTHS_BALANCE</th>\n",
              "      <th>STATUS</th>\n",
              "      <th>CODE_GENDER</th>\n",
              "      <th>FLAG_OWN_CAR</th>\n",
              "      <th>FLAG_OWN_REALTY</th>\n",
              "      <th>CNT_CHILDREN</th>\n",
              "      <th>AMT_INCOME_TOTAL</th>\n",
              "      <th>NAME_INCOME_TYPE</th>\n",
              "      <th>NAME_EDUCATION_TYPE</th>\n",
              "      <th>NAME_FAMILY_STATUS</th>\n",
              "      <th>NAME_HOUSING_TYPE</th>\n",
              "      <th>DAYS_BIRTH</th>\n",
              "      <th>DAYS_EMPLOYED</th>\n",
              "      <th>FLAG_MOBIL</th>\n",
              "      <th>FLAG_WORK_PHONE</th>\n",
              "      <th>FLAG_PHONE</th>\n",
              "      <th>FLAG_EMAIL</th>\n",
              "      <th>OCCUPATION_TYPE</th>\n",
              "      <th>CNT_FAM_MEMBERS</th>\n",
              "    </tr>\n",
              "  </thead>\n",
              "  <tbody>\n",
              "    <tr>\n",
              "      <th>0</th>\n",
              "      <td>5008804</td>\n",
              "      <td>0</td>\n",
              "      <td>C</td>\n",
              "      <td>M</td>\n",
              "      <td>Y</td>\n",
              "      <td>Y</td>\n",
              "      <td>0</td>\n",
              "      <td>427500.0</td>\n",
              "      <td>Working</td>\n",
              "      <td>Higher education</td>\n",
              "      <td>Civil marriage</td>\n",
              "      <td>Rented apartment</td>\n",
              "      <td>-12005</td>\n",
              "      <td>-4542</td>\n",
              "      <td>1</td>\n",
              "      <td>1</td>\n",
              "      <td>0</td>\n",
              "      <td>0</td>\n",
              "      <td>NaN</td>\n",
              "      <td>2.0</td>\n",
              "    </tr>\n",
              "    <tr>\n",
              "      <th>1</th>\n",
              "      <td>5008804</td>\n",
              "      <td>-1</td>\n",
              "      <td>C</td>\n",
              "      <td>M</td>\n",
              "      <td>Y</td>\n",
              "      <td>Y</td>\n",
              "      <td>0</td>\n",
              "      <td>427500.0</td>\n",
              "      <td>Working</td>\n",
              "      <td>Higher education</td>\n",
              "      <td>Civil marriage</td>\n",
              "      <td>Rented apartment</td>\n",
              "      <td>-12005</td>\n",
              "      <td>-4542</td>\n",
              "      <td>1</td>\n",
              "      <td>1</td>\n",
              "      <td>0</td>\n",
              "      <td>0</td>\n",
              "      <td>NaN</td>\n",
              "      <td>2.0</td>\n",
              "    </tr>\n",
              "    <tr>\n",
              "      <th>2</th>\n",
              "      <td>5008804</td>\n",
              "      <td>-2</td>\n",
              "      <td>C</td>\n",
              "      <td>M</td>\n",
              "      <td>Y</td>\n",
              "      <td>Y</td>\n",
              "      <td>0</td>\n",
              "      <td>427500.0</td>\n",
              "      <td>Working</td>\n",
              "      <td>Higher education</td>\n",
              "      <td>Civil marriage</td>\n",
              "      <td>Rented apartment</td>\n",
              "      <td>-12005</td>\n",
              "      <td>-4542</td>\n",
              "      <td>1</td>\n",
              "      <td>1</td>\n",
              "      <td>0</td>\n",
              "      <td>0</td>\n",
              "      <td>NaN</td>\n",
              "      <td>2.0</td>\n",
              "    </tr>\n",
              "    <tr>\n",
              "      <th>3</th>\n",
              "      <td>5008804</td>\n",
              "      <td>-3</td>\n",
              "      <td>C</td>\n",
              "      <td>M</td>\n",
              "      <td>Y</td>\n",
              "      <td>Y</td>\n",
              "      <td>0</td>\n",
              "      <td>427500.0</td>\n",
              "      <td>Working</td>\n",
              "      <td>Higher education</td>\n",
              "      <td>Civil marriage</td>\n",
              "      <td>Rented apartment</td>\n",
              "      <td>-12005</td>\n",
              "      <td>-4542</td>\n",
              "      <td>1</td>\n",
              "      <td>1</td>\n",
              "      <td>0</td>\n",
              "      <td>0</td>\n",
              "      <td>NaN</td>\n",
              "      <td>2.0</td>\n",
              "    </tr>\n",
              "    <tr>\n",
              "      <th>4</th>\n",
              "      <td>5008804</td>\n",
              "      <td>-4</td>\n",
              "      <td>C</td>\n",
              "      <td>M</td>\n",
              "      <td>Y</td>\n",
              "      <td>Y</td>\n",
              "      <td>0</td>\n",
              "      <td>427500.0</td>\n",
              "      <td>Working</td>\n",
              "      <td>Higher education</td>\n",
              "      <td>Civil marriage</td>\n",
              "      <td>Rented apartment</td>\n",
              "      <td>-12005</td>\n",
              "      <td>-4542</td>\n",
              "      <td>1</td>\n",
              "      <td>1</td>\n",
              "      <td>0</td>\n",
              "      <td>0</td>\n",
              "      <td>NaN</td>\n",
              "      <td>2.0</td>\n",
              "    </tr>\n",
              "  </tbody>\n",
              "</table>\n",
              "</div>"
            ],
            "text/plain": [
              "        ID  MONTHS_BALANCE STATUS  ... FLAG_EMAIL OCCUPATION_TYPE CNT_FAM_MEMBERS\n",
              "0  5008804               0      C  ...          0             NaN             2.0\n",
              "1  5008804              -1      C  ...          0             NaN             2.0\n",
              "2  5008804              -2      C  ...          0             NaN             2.0\n",
              "3  5008804              -3      C  ...          0             NaN             2.0\n",
              "4  5008804              -4      C  ...          0             NaN             2.0\n",
              "\n",
              "[5 rows x 20 columns]"
            ]
          },
          "metadata": {
            "tags": []
          },
          "execution_count": 130
        }
      ]
    },
    {
      "cell_type": "code",
      "metadata": {
        "colab": {
          "base_uri": "https://localhost:8080/"
        },
        "id": "qLaMkBUNPDLR",
        "outputId": "228e135e-6bbe-4f88-9af7-3b018bde9819"
      },
      "source": [
        "# how many unique ID in final?\n",
        "len(set(final['ID']))"
      ],
      "execution_count": null,
      "outputs": [
        {
          "output_type": "execute_result",
          "data": {
            "text/plain": [
              "36457"
            ]
          },
          "metadata": {
            "tags": []
          },
          "execution_count": 131
        }
      ]
    },
    {
      "cell_type": "code",
      "metadata": {
        "colab": {
          "base_uri": "https://localhost:8080/"
        },
        "id": "e2nO30IpPHCT",
        "outputId": "e464c0be-7764-452b-d466-623ea226caa6"
      },
      "source": [
        "final.shape"
      ],
      "execution_count": null,
      "outputs": [
        {
          "output_type": "execute_result",
          "data": {
            "text/plain": [
              "(777715, 20)"
            ]
          },
          "metadata": {
            "tags": []
          },
          "execution_count": 132
        }
      ]
    },
    {
      "cell_type": "code",
      "metadata": {
        "colab": {
          "base_uri": "https://localhost:8080/"
        },
        "id": "XBAM0cdNPbm7",
        "outputId": "f89de43d-84c5-454e-9c32-0a25f4532b7d"
      },
      "source": [
        "final.dtypes"
      ],
      "execution_count": null,
      "outputs": [
        {
          "output_type": "execute_result",
          "data": {
            "text/plain": [
              "ID                       int64\n",
              "MONTHS_BALANCE           int64\n",
              "STATUS                  object\n",
              "CODE_GENDER             object\n",
              "FLAG_OWN_CAR            object\n",
              "FLAG_OWN_REALTY         object\n",
              "CNT_CHILDREN             int64\n",
              "AMT_INCOME_TOTAL       float64\n",
              "NAME_INCOME_TYPE        object\n",
              "NAME_EDUCATION_TYPE     object\n",
              "NAME_FAMILY_STATUS      object\n",
              "NAME_HOUSING_TYPE       object\n",
              "DAYS_BIRTH               int64\n",
              "DAYS_EMPLOYED            int64\n",
              "FLAG_MOBIL               int64\n",
              "FLAG_WORK_PHONE          int64\n",
              "FLAG_PHONE               int64\n",
              "FLAG_EMAIL               int64\n",
              "OCCUPATION_TYPE         object\n",
              "CNT_FAM_MEMBERS        float64\n",
              "dtype: object"
            ]
          },
          "metadata": {
            "tags": []
          },
          "execution_count": 133
        }
      ]
    },
    {
      "cell_type": "markdown",
      "metadata": {
        "id": "EY-oXhDdasBY"
      },
      "source": [
        "There are 36457 customers in both datasets analyzed over several months. Only those customers can be judge for judgment\n"
      ]
    },
    {
      "cell_type": "markdown",
      "metadata": {
        "id": "xF5F3ayJPmVn"
      },
      "source": [
        "### **1.2 Rename and delete columns**"
      ]
    },
    {
      "cell_type": "code",
      "metadata": {
        "colab": {
          "base_uri": "https://localhost:8080/",
          "height": 299
        },
        "id": "6stZIjhDPrjS",
        "outputId": "f2b1e98b-4db0-4b0b-82ed-66a5d4f6f654"
      },
      "source": [
        "final=final.rename(columns={'CODE_GENDER': 'Gender',\n",
        "                   'FLAG_OWN_CAR': 'Car',\n",
        "                   'FLAG_OWN_REALTY':'Property',\n",
        "                   'CNT_CHILDREN': 'ChildNo',\n",
        "                   'AMT_INCOME_TOTAL':'Income',\n",
        "                   'NAME_INCOME_TYPE': 'Income_type',\n",
        "                   'NAME_EDUCATION_TYPE': 'Education_level',\n",
        "                   'NAME_FAMILY_STATUS': 'Family_status',\n",
        "                   'NAME_HOUSING_TYPE' : 'Housing_type',\n",
        "                   'DAYS_BIRTH': 'Age',\n",
        "                   'DAYS_EMPLOYED': 'Years_employed',\n",
        "                   'OCCUPATION_TYPE':'Occupation',\n",
        "                   'CNT_FAM_MEMBERS': 'Family_size',\n",
        "                   'MONTHS_BALANCE': 'Month_balance',\n",
        "                   'STATUS': \"Status\"    \n",
        "                           })\n",
        "\n",
        "final.head()"
      ],
      "execution_count": null,
      "outputs": [
        {
          "output_type": "execute_result",
          "data": {
            "text/html": [
              "<div>\n",
              "<style scoped>\n",
              "    .dataframe tbody tr th:only-of-type {\n",
              "        vertical-align: middle;\n",
              "    }\n",
              "\n",
              "    .dataframe tbody tr th {\n",
              "        vertical-align: top;\n",
              "    }\n",
              "\n",
              "    .dataframe thead th {\n",
              "        text-align: right;\n",
              "    }\n",
              "</style>\n",
              "<table border=\"1\" class=\"dataframe\">\n",
              "  <thead>\n",
              "    <tr style=\"text-align: right;\">\n",
              "      <th></th>\n",
              "      <th>ID</th>\n",
              "      <th>Month_balance</th>\n",
              "      <th>Status</th>\n",
              "      <th>Gender</th>\n",
              "      <th>Car</th>\n",
              "      <th>Property</th>\n",
              "      <th>ChildNo</th>\n",
              "      <th>Income</th>\n",
              "      <th>Income_type</th>\n",
              "      <th>Education_level</th>\n",
              "      <th>Family_status</th>\n",
              "      <th>Housing_type</th>\n",
              "      <th>Age</th>\n",
              "      <th>Years_employed</th>\n",
              "      <th>FLAG_MOBIL</th>\n",
              "      <th>FLAG_WORK_PHONE</th>\n",
              "      <th>FLAG_PHONE</th>\n",
              "      <th>FLAG_EMAIL</th>\n",
              "      <th>Occupation</th>\n",
              "      <th>Family_size</th>\n",
              "    </tr>\n",
              "  </thead>\n",
              "  <tbody>\n",
              "    <tr>\n",
              "      <th>0</th>\n",
              "      <td>5008804</td>\n",
              "      <td>0</td>\n",
              "      <td>C</td>\n",
              "      <td>M</td>\n",
              "      <td>Y</td>\n",
              "      <td>Y</td>\n",
              "      <td>0</td>\n",
              "      <td>427500.0</td>\n",
              "      <td>Working</td>\n",
              "      <td>Higher education</td>\n",
              "      <td>Civil marriage</td>\n",
              "      <td>Rented apartment</td>\n",
              "      <td>-12005</td>\n",
              "      <td>-4542</td>\n",
              "      <td>1</td>\n",
              "      <td>1</td>\n",
              "      <td>0</td>\n",
              "      <td>0</td>\n",
              "      <td>NaN</td>\n",
              "      <td>2.0</td>\n",
              "    </tr>\n",
              "    <tr>\n",
              "      <th>1</th>\n",
              "      <td>5008804</td>\n",
              "      <td>-1</td>\n",
              "      <td>C</td>\n",
              "      <td>M</td>\n",
              "      <td>Y</td>\n",
              "      <td>Y</td>\n",
              "      <td>0</td>\n",
              "      <td>427500.0</td>\n",
              "      <td>Working</td>\n",
              "      <td>Higher education</td>\n",
              "      <td>Civil marriage</td>\n",
              "      <td>Rented apartment</td>\n",
              "      <td>-12005</td>\n",
              "      <td>-4542</td>\n",
              "      <td>1</td>\n",
              "      <td>1</td>\n",
              "      <td>0</td>\n",
              "      <td>0</td>\n",
              "      <td>NaN</td>\n",
              "      <td>2.0</td>\n",
              "    </tr>\n",
              "    <tr>\n",
              "      <th>2</th>\n",
              "      <td>5008804</td>\n",
              "      <td>-2</td>\n",
              "      <td>C</td>\n",
              "      <td>M</td>\n",
              "      <td>Y</td>\n",
              "      <td>Y</td>\n",
              "      <td>0</td>\n",
              "      <td>427500.0</td>\n",
              "      <td>Working</td>\n",
              "      <td>Higher education</td>\n",
              "      <td>Civil marriage</td>\n",
              "      <td>Rented apartment</td>\n",
              "      <td>-12005</td>\n",
              "      <td>-4542</td>\n",
              "      <td>1</td>\n",
              "      <td>1</td>\n",
              "      <td>0</td>\n",
              "      <td>0</td>\n",
              "      <td>NaN</td>\n",
              "      <td>2.0</td>\n",
              "    </tr>\n",
              "    <tr>\n",
              "      <th>3</th>\n",
              "      <td>5008804</td>\n",
              "      <td>-3</td>\n",
              "      <td>C</td>\n",
              "      <td>M</td>\n",
              "      <td>Y</td>\n",
              "      <td>Y</td>\n",
              "      <td>0</td>\n",
              "      <td>427500.0</td>\n",
              "      <td>Working</td>\n",
              "      <td>Higher education</td>\n",
              "      <td>Civil marriage</td>\n",
              "      <td>Rented apartment</td>\n",
              "      <td>-12005</td>\n",
              "      <td>-4542</td>\n",
              "      <td>1</td>\n",
              "      <td>1</td>\n",
              "      <td>0</td>\n",
              "      <td>0</td>\n",
              "      <td>NaN</td>\n",
              "      <td>2.0</td>\n",
              "    </tr>\n",
              "    <tr>\n",
              "      <th>4</th>\n",
              "      <td>5008804</td>\n",
              "      <td>-4</td>\n",
              "      <td>C</td>\n",
              "      <td>M</td>\n",
              "      <td>Y</td>\n",
              "      <td>Y</td>\n",
              "      <td>0</td>\n",
              "      <td>427500.0</td>\n",
              "      <td>Working</td>\n",
              "      <td>Higher education</td>\n",
              "      <td>Civil marriage</td>\n",
              "      <td>Rented apartment</td>\n",
              "      <td>-12005</td>\n",
              "      <td>-4542</td>\n",
              "      <td>1</td>\n",
              "      <td>1</td>\n",
              "      <td>0</td>\n",
              "      <td>0</td>\n",
              "      <td>NaN</td>\n",
              "      <td>2.0</td>\n",
              "    </tr>\n",
              "  </tbody>\n",
              "</table>\n",
              "</div>"
            ],
            "text/plain": [
              "        ID  Month_balance Status  ... FLAG_EMAIL Occupation Family_size\n",
              "0  5008804              0      C  ...          0        NaN         2.0\n",
              "1  5008804             -1      C  ...          0        NaN         2.0\n",
              "2  5008804             -2      C  ...          0        NaN         2.0\n",
              "3  5008804             -3      C  ...          0        NaN         2.0\n",
              "4  5008804             -4      C  ...          0        NaN         2.0\n",
              "\n",
              "[5 rows x 20 columns]"
            ]
          },
          "metadata": {
            "tags": []
          },
          "execution_count": 134
        }
      ]
    },
    {
      "cell_type": "code",
      "metadata": {
        "id": "4impOq9MEn1Z"
      },
      "source": [
        "final.Age = final.Age.div(365)*(-1)\n",
        "\n"
      ],
      "execution_count": null,
      "outputs": []
    },
    {
      "cell_type": "code",
      "metadata": {
        "id": "MbfFvqpRGCv0"
      },
      "source": [
        "final.Age = final.Age.round()"
      ],
      "execution_count": null,
      "outputs": []
    },
    {
      "cell_type": "code",
      "metadata": {
        "id": "6MrVRyWXFA_0"
      },
      "source": [
        "final.Years_employed = final.Years_employed.div(365)*(-1)\n",
        "final.Years_employed = final.Years_employed.round()"
      ],
      "execution_count": null,
      "outputs": []
    },
    {
      "cell_type": "code",
      "metadata": {
        "colab": {
          "base_uri": "https://localhost:8080/",
          "height": 299
        },
        "id": "QtzaftODFDbC",
        "outputId": "cae02e36-a40d-493d-fe7f-a231a637ced0"
      },
      "source": [
        "final.head()"
      ],
      "execution_count": null,
      "outputs": [
        {
          "output_type": "execute_result",
          "data": {
            "text/html": [
              "<div>\n",
              "<style scoped>\n",
              "    .dataframe tbody tr th:only-of-type {\n",
              "        vertical-align: middle;\n",
              "    }\n",
              "\n",
              "    .dataframe tbody tr th {\n",
              "        vertical-align: top;\n",
              "    }\n",
              "\n",
              "    .dataframe thead th {\n",
              "        text-align: right;\n",
              "    }\n",
              "</style>\n",
              "<table border=\"1\" class=\"dataframe\">\n",
              "  <thead>\n",
              "    <tr style=\"text-align: right;\">\n",
              "      <th></th>\n",
              "      <th>ID</th>\n",
              "      <th>Month_balance</th>\n",
              "      <th>Status</th>\n",
              "      <th>Gender</th>\n",
              "      <th>Car</th>\n",
              "      <th>Property</th>\n",
              "      <th>ChildNo</th>\n",
              "      <th>Income</th>\n",
              "      <th>Income_type</th>\n",
              "      <th>Education_level</th>\n",
              "      <th>Family_status</th>\n",
              "      <th>Housing_type</th>\n",
              "      <th>Age</th>\n",
              "      <th>Years_employed</th>\n",
              "      <th>FLAG_MOBIL</th>\n",
              "      <th>FLAG_WORK_PHONE</th>\n",
              "      <th>FLAG_PHONE</th>\n",
              "      <th>FLAG_EMAIL</th>\n",
              "      <th>Occupation</th>\n",
              "      <th>Family_size</th>\n",
              "    </tr>\n",
              "  </thead>\n",
              "  <tbody>\n",
              "    <tr>\n",
              "      <th>0</th>\n",
              "      <td>5008804</td>\n",
              "      <td>0</td>\n",
              "      <td>C</td>\n",
              "      <td>M</td>\n",
              "      <td>Y</td>\n",
              "      <td>Y</td>\n",
              "      <td>0</td>\n",
              "      <td>427500.0</td>\n",
              "      <td>Working</td>\n",
              "      <td>Higher education</td>\n",
              "      <td>Civil marriage</td>\n",
              "      <td>Rented apartment</td>\n",
              "      <td>33.0</td>\n",
              "      <td>12.0</td>\n",
              "      <td>1</td>\n",
              "      <td>1</td>\n",
              "      <td>0</td>\n",
              "      <td>0</td>\n",
              "      <td>NaN</td>\n",
              "      <td>2.0</td>\n",
              "    </tr>\n",
              "    <tr>\n",
              "      <th>1</th>\n",
              "      <td>5008804</td>\n",
              "      <td>-1</td>\n",
              "      <td>C</td>\n",
              "      <td>M</td>\n",
              "      <td>Y</td>\n",
              "      <td>Y</td>\n",
              "      <td>0</td>\n",
              "      <td>427500.0</td>\n",
              "      <td>Working</td>\n",
              "      <td>Higher education</td>\n",
              "      <td>Civil marriage</td>\n",
              "      <td>Rented apartment</td>\n",
              "      <td>33.0</td>\n",
              "      <td>12.0</td>\n",
              "      <td>1</td>\n",
              "      <td>1</td>\n",
              "      <td>0</td>\n",
              "      <td>0</td>\n",
              "      <td>NaN</td>\n",
              "      <td>2.0</td>\n",
              "    </tr>\n",
              "    <tr>\n",
              "      <th>2</th>\n",
              "      <td>5008804</td>\n",
              "      <td>-2</td>\n",
              "      <td>C</td>\n",
              "      <td>M</td>\n",
              "      <td>Y</td>\n",
              "      <td>Y</td>\n",
              "      <td>0</td>\n",
              "      <td>427500.0</td>\n",
              "      <td>Working</td>\n",
              "      <td>Higher education</td>\n",
              "      <td>Civil marriage</td>\n",
              "      <td>Rented apartment</td>\n",
              "      <td>33.0</td>\n",
              "      <td>12.0</td>\n",
              "      <td>1</td>\n",
              "      <td>1</td>\n",
              "      <td>0</td>\n",
              "      <td>0</td>\n",
              "      <td>NaN</td>\n",
              "      <td>2.0</td>\n",
              "    </tr>\n",
              "    <tr>\n",
              "      <th>3</th>\n",
              "      <td>5008804</td>\n",
              "      <td>-3</td>\n",
              "      <td>C</td>\n",
              "      <td>M</td>\n",
              "      <td>Y</td>\n",
              "      <td>Y</td>\n",
              "      <td>0</td>\n",
              "      <td>427500.0</td>\n",
              "      <td>Working</td>\n",
              "      <td>Higher education</td>\n",
              "      <td>Civil marriage</td>\n",
              "      <td>Rented apartment</td>\n",
              "      <td>33.0</td>\n",
              "      <td>12.0</td>\n",
              "      <td>1</td>\n",
              "      <td>1</td>\n",
              "      <td>0</td>\n",
              "      <td>0</td>\n",
              "      <td>NaN</td>\n",
              "      <td>2.0</td>\n",
              "    </tr>\n",
              "    <tr>\n",
              "      <th>4</th>\n",
              "      <td>5008804</td>\n",
              "      <td>-4</td>\n",
              "      <td>C</td>\n",
              "      <td>M</td>\n",
              "      <td>Y</td>\n",
              "      <td>Y</td>\n",
              "      <td>0</td>\n",
              "      <td>427500.0</td>\n",
              "      <td>Working</td>\n",
              "      <td>Higher education</td>\n",
              "      <td>Civil marriage</td>\n",
              "      <td>Rented apartment</td>\n",
              "      <td>33.0</td>\n",
              "      <td>12.0</td>\n",
              "      <td>1</td>\n",
              "      <td>1</td>\n",
              "      <td>0</td>\n",
              "      <td>0</td>\n",
              "      <td>NaN</td>\n",
              "      <td>2.0</td>\n",
              "    </tr>\n",
              "  </tbody>\n",
              "</table>\n",
              "</div>"
            ],
            "text/plain": [
              "        ID  Month_balance Status  ... FLAG_EMAIL Occupation Family_size\n",
              "0  5008804              0      C  ...          0        NaN         2.0\n",
              "1  5008804             -1      C  ...          0        NaN         2.0\n",
              "2  5008804             -2      C  ...          0        NaN         2.0\n",
              "3  5008804             -3      C  ...          0        NaN         2.0\n",
              "4  5008804             -4      C  ...          0        NaN         2.0\n",
              "\n",
              "[5 rows x 20 columns]"
            ]
          },
          "metadata": {
            "tags": []
          },
          "execution_count": 138
        }
      ]
    },
    {
      "cell_type": "code",
      "metadata": {
        "id": "dw44X0N8QXjZ"
      },
      "source": [
        "# We drop phone and email columns\n",
        "\n",
        "final =final.drop(['FLAG_MOBIL','FLAG_WORK_PHONE','FLAG_PHONE','FLAG_EMAIL','Month_balance'], axis=1)\n"
      ],
      "execution_count": null,
      "outputs": []
    },
    {
      "cell_type": "markdown",
      "metadata": {
        "id": "2xhgmQBMbIzg"
      },
      "source": [
        "We dropped phone and email columns because they are irrelevant for our analysis"
      ]
    },
    {
      "cell_type": "code",
      "metadata": {
        "colab": {
          "base_uri": "https://localhost:8080/",
          "height": 299
        },
        "id": "zDQ2kkU8RQix",
        "outputId": "61e3b717-3457-4db2-99a9-d3a8a635594e"
      },
      "source": [
        "final.head()"
      ],
      "execution_count": null,
      "outputs": [
        {
          "output_type": "execute_result",
          "data": {
            "text/html": [
              "<div>\n",
              "<style scoped>\n",
              "    .dataframe tbody tr th:only-of-type {\n",
              "        vertical-align: middle;\n",
              "    }\n",
              "\n",
              "    .dataframe tbody tr th {\n",
              "        vertical-align: top;\n",
              "    }\n",
              "\n",
              "    .dataframe thead th {\n",
              "        text-align: right;\n",
              "    }\n",
              "</style>\n",
              "<table border=\"1\" class=\"dataframe\">\n",
              "  <thead>\n",
              "    <tr style=\"text-align: right;\">\n",
              "      <th></th>\n",
              "      <th>ID</th>\n",
              "      <th>Status</th>\n",
              "      <th>Gender</th>\n",
              "      <th>Car</th>\n",
              "      <th>Property</th>\n",
              "      <th>ChildNo</th>\n",
              "      <th>Income</th>\n",
              "      <th>Income_type</th>\n",
              "      <th>Education_level</th>\n",
              "      <th>Family_status</th>\n",
              "      <th>Housing_type</th>\n",
              "      <th>Age</th>\n",
              "      <th>Years_employed</th>\n",
              "      <th>Occupation</th>\n",
              "      <th>Family_size</th>\n",
              "    </tr>\n",
              "  </thead>\n",
              "  <tbody>\n",
              "    <tr>\n",
              "      <th>0</th>\n",
              "      <td>5008804</td>\n",
              "      <td>C</td>\n",
              "      <td>M</td>\n",
              "      <td>Y</td>\n",
              "      <td>Y</td>\n",
              "      <td>0</td>\n",
              "      <td>427500.0</td>\n",
              "      <td>Working</td>\n",
              "      <td>Higher education</td>\n",
              "      <td>Civil marriage</td>\n",
              "      <td>Rented apartment</td>\n",
              "      <td>33.0</td>\n",
              "      <td>12.0</td>\n",
              "      <td>NaN</td>\n",
              "      <td>2.0</td>\n",
              "    </tr>\n",
              "    <tr>\n",
              "      <th>1</th>\n",
              "      <td>5008804</td>\n",
              "      <td>C</td>\n",
              "      <td>M</td>\n",
              "      <td>Y</td>\n",
              "      <td>Y</td>\n",
              "      <td>0</td>\n",
              "      <td>427500.0</td>\n",
              "      <td>Working</td>\n",
              "      <td>Higher education</td>\n",
              "      <td>Civil marriage</td>\n",
              "      <td>Rented apartment</td>\n",
              "      <td>33.0</td>\n",
              "      <td>12.0</td>\n",
              "      <td>NaN</td>\n",
              "      <td>2.0</td>\n",
              "    </tr>\n",
              "    <tr>\n",
              "      <th>2</th>\n",
              "      <td>5008804</td>\n",
              "      <td>C</td>\n",
              "      <td>M</td>\n",
              "      <td>Y</td>\n",
              "      <td>Y</td>\n",
              "      <td>0</td>\n",
              "      <td>427500.0</td>\n",
              "      <td>Working</td>\n",
              "      <td>Higher education</td>\n",
              "      <td>Civil marriage</td>\n",
              "      <td>Rented apartment</td>\n",
              "      <td>33.0</td>\n",
              "      <td>12.0</td>\n",
              "      <td>NaN</td>\n",
              "      <td>2.0</td>\n",
              "    </tr>\n",
              "    <tr>\n",
              "      <th>3</th>\n",
              "      <td>5008804</td>\n",
              "      <td>C</td>\n",
              "      <td>M</td>\n",
              "      <td>Y</td>\n",
              "      <td>Y</td>\n",
              "      <td>0</td>\n",
              "      <td>427500.0</td>\n",
              "      <td>Working</td>\n",
              "      <td>Higher education</td>\n",
              "      <td>Civil marriage</td>\n",
              "      <td>Rented apartment</td>\n",
              "      <td>33.0</td>\n",
              "      <td>12.0</td>\n",
              "      <td>NaN</td>\n",
              "      <td>2.0</td>\n",
              "    </tr>\n",
              "    <tr>\n",
              "      <th>4</th>\n",
              "      <td>5008804</td>\n",
              "      <td>C</td>\n",
              "      <td>M</td>\n",
              "      <td>Y</td>\n",
              "      <td>Y</td>\n",
              "      <td>0</td>\n",
              "      <td>427500.0</td>\n",
              "      <td>Working</td>\n",
              "      <td>Higher education</td>\n",
              "      <td>Civil marriage</td>\n",
              "      <td>Rented apartment</td>\n",
              "      <td>33.0</td>\n",
              "      <td>12.0</td>\n",
              "      <td>NaN</td>\n",
              "      <td>2.0</td>\n",
              "    </tr>\n",
              "  </tbody>\n",
              "</table>\n",
              "</div>"
            ],
            "text/plain": [
              "        ID Status Gender Car  ...   Age  Years_employed  Occupation Family_size\n",
              "0  5008804      C      M   Y  ...  33.0            12.0         NaN         2.0\n",
              "1  5008804      C      M   Y  ...  33.0            12.0         NaN         2.0\n",
              "2  5008804      C      M   Y  ...  33.0            12.0         NaN         2.0\n",
              "3  5008804      C      M   Y  ...  33.0            12.0         NaN         2.0\n",
              "4  5008804      C      M   Y  ...  33.0            12.0         NaN         2.0\n",
              "\n",
              "[5 rows x 15 columns]"
            ]
          },
          "metadata": {
            "tags": []
          },
          "execution_count": 140
        }
      ]
    },
    {
      "cell_type": "markdown",
      "metadata": {
        "id": "f4csmmYnUY9Z"
      },
      "source": [
        "### **1.3 Rename and group the labels in 3 classes**\n"
      ]
    },
    {
      "cell_type": "code",
      "metadata": {
        "colab": {
          "base_uri": "https://localhost:8080/"
        },
        "id": "oxVlJjt_c3bb",
        "outputId": "a2122910-7aef-4aa8-e6de-bf361e9436f9"
      },
      "source": [
        "final['Status'].value_counts()"
      ],
      "execution_count": null,
      "outputs": [
        {
          "output_type": "execute_result",
          "data": {
            "text/plain": [
              "C    329536\n",
              "0    290654\n",
              "X    145950\n",
              "1      8747\n",
              "5      1527\n",
              "2       801\n",
              "3       286\n",
              "4       214\n",
              "Name: Status, dtype: int64"
            ]
          },
          "metadata": {
            "tags": []
          },
          "execution_count": 141
        }
      ]
    },
    {
      "cell_type": "markdown",
      "metadata": {
        "id": "adv-jGXLbXX4"
      },
      "source": [
        "* Most of the clients paid their debt within the month \n",
        "* More than a third paid their debt the following month\n",
        "* Almost one quarter don't have monthly loan (maybe they use only debit card?)\n",
        "* Very few pay their debts after two months \n",
        "\n",
        "Conclusion: We will group the labels 1,2,3,4,5, into one label for our machine learning models"
      ]
    },
    {
      "cell_type": "code",
      "metadata": {
        "colab": {
          "base_uri": "https://localhost:8080/",
          "height": 299
        },
        "id": "npdmdyAPUX-T",
        "outputId": "548e6632-2037-4c65-a807-a078a10be99b"
      },
      "source": [
        "# X--> 0 :no loan for the month\n",
        "# C--> 1 :paid off that month\n",
        "# 0,1,2,3,4,5 --> 2  : > 1 days past due\n",
        "\n",
        "final['Status'] = final['Status'].replace(['X','C','0','1','2','3','4','5'],[0,1,2,2,2,2,2,2])\n",
        "final.head()"
      ],
      "execution_count": null,
      "outputs": [
        {
          "output_type": "execute_result",
          "data": {
            "text/html": [
              "<div>\n",
              "<style scoped>\n",
              "    .dataframe tbody tr th:only-of-type {\n",
              "        vertical-align: middle;\n",
              "    }\n",
              "\n",
              "    .dataframe tbody tr th {\n",
              "        vertical-align: top;\n",
              "    }\n",
              "\n",
              "    .dataframe thead th {\n",
              "        text-align: right;\n",
              "    }\n",
              "</style>\n",
              "<table border=\"1\" class=\"dataframe\">\n",
              "  <thead>\n",
              "    <tr style=\"text-align: right;\">\n",
              "      <th></th>\n",
              "      <th>ID</th>\n",
              "      <th>Status</th>\n",
              "      <th>Gender</th>\n",
              "      <th>Car</th>\n",
              "      <th>Property</th>\n",
              "      <th>ChildNo</th>\n",
              "      <th>Income</th>\n",
              "      <th>Income_type</th>\n",
              "      <th>Education_level</th>\n",
              "      <th>Family_status</th>\n",
              "      <th>Housing_type</th>\n",
              "      <th>Age</th>\n",
              "      <th>Years_employed</th>\n",
              "      <th>Occupation</th>\n",
              "      <th>Family_size</th>\n",
              "    </tr>\n",
              "  </thead>\n",
              "  <tbody>\n",
              "    <tr>\n",
              "      <th>0</th>\n",
              "      <td>5008804</td>\n",
              "      <td>1</td>\n",
              "      <td>M</td>\n",
              "      <td>Y</td>\n",
              "      <td>Y</td>\n",
              "      <td>0</td>\n",
              "      <td>427500.0</td>\n",
              "      <td>Working</td>\n",
              "      <td>Higher education</td>\n",
              "      <td>Civil marriage</td>\n",
              "      <td>Rented apartment</td>\n",
              "      <td>33.0</td>\n",
              "      <td>12.0</td>\n",
              "      <td>NaN</td>\n",
              "      <td>2.0</td>\n",
              "    </tr>\n",
              "    <tr>\n",
              "      <th>1</th>\n",
              "      <td>5008804</td>\n",
              "      <td>1</td>\n",
              "      <td>M</td>\n",
              "      <td>Y</td>\n",
              "      <td>Y</td>\n",
              "      <td>0</td>\n",
              "      <td>427500.0</td>\n",
              "      <td>Working</td>\n",
              "      <td>Higher education</td>\n",
              "      <td>Civil marriage</td>\n",
              "      <td>Rented apartment</td>\n",
              "      <td>33.0</td>\n",
              "      <td>12.0</td>\n",
              "      <td>NaN</td>\n",
              "      <td>2.0</td>\n",
              "    </tr>\n",
              "    <tr>\n",
              "      <th>2</th>\n",
              "      <td>5008804</td>\n",
              "      <td>1</td>\n",
              "      <td>M</td>\n",
              "      <td>Y</td>\n",
              "      <td>Y</td>\n",
              "      <td>0</td>\n",
              "      <td>427500.0</td>\n",
              "      <td>Working</td>\n",
              "      <td>Higher education</td>\n",
              "      <td>Civil marriage</td>\n",
              "      <td>Rented apartment</td>\n",
              "      <td>33.0</td>\n",
              "      <td>12.0</td>\n",
              "      <td>NaN</td>\n",
              "      <td>2.0</td>\n",
              "    </tr>\n",
              "    <tr>\n",
              "      <th>3</th>\n",
              "      <td>5008804</td>\n",
              "      <td>1</td>\n",
              "      <td>M</td>\n",
              "      <td>Y</td>\n",
              "      <td>Y</td>\n",
              "      <td>0</td>\n",
              "      <td>427500.0</td>\n",
              "      <td>Working</td>\n",
              "      <td>Higher education</td>\n",
              "      <td>Civil marriage</td>\n",
              "      <td>Rented apartment</td>\n",
              "      <td>33.0</td>\n",
              "      <td>12.0</td>\n",
              "      <td>NaN</td>\n",
              "      <td>2.0</td>\n",
              "    </tr>\n",
              "    <tr>\n",
              "      <th>4</th>\n",
              "      <td>5008804</td>\n",
              "      <td>1</td>\n",
              "      <td>M</td>\n",
              "      <td>Y</td>\n",
              "      <td>Y</td>\n",
              "      <td>0</td>\n",
              "      <td>427500.0</td>\n",
              "      <td>Working</td>\n",
              "      <td>Higher education</td>\n",
              "      <td>Civil marriage</td>\n",
              "      <td>Rented apartment</td>\n",
              "      <td>33.0</td>\n",
              "      <td>12.0</td>\n",
              "      <td>NaN</td>\n",
              "      <td>2.0</td>\n",
              "    </tr>\n",
              "  </tbody>\n",
              "</table>\n",
              "</div>"
            ],
            "text/plain": [
              "        ID  Status Gender Car  ...   Age  Years_employed  Occupation Family_size\n",
              "0  5008804       1      M   Y  ...  33.0            12.0         NaN         2.0\n",
              "1  5008804       1      M   Y  ...  33.0            12.0         NaN         2.0\n",
              "2  5008804       1      M   Y  ...  33.0            12.0         NaN         2.0\n",
              "3  5008804       1      M   Y  ...  33.0            12.0         NaN         2.0\n",
              "4  5008804       1      M   Y  ...  33.0            12.0         NaN         2.0\n",
              "\n",
              "[5 rows x 15 columns]"
            ]
          },
          "metadata": {
            "tags": []
          },
          "execution_count": 142
        }
      ]
    },
    {
      "cell_type": "code",
      "metadata": {
        "colab": {
          "base_uri": "https://localhost:8080/"
        },
        "id": "v0olJXXxWNfy",
        "outputId": "13bcd4c1-e15f-4413-aa0e-b57508e6b11d"
      },
      "source": [
        "final['Status'].value_counts()"
      ],
      "execution_count": null,
      "outputs": [
        {
          "output_type": "execute_result",
          "data": {
            "text/plain": [
              "1    329536\n",
              "2    302229\n",
              "0    145950\n",
              "Name: Status, dtype: int64"
            ]
          },
          "metadata": {
            "tags": []
          },
          "execution_count": 143
        }
      ]
    },
    {
      "cell_type": "code",
      "metadata": {
        "colab": {
          "base_uri": "https://localhost:8080/"
        },
        "id": "FwgmWY2TYVDZ",
        "outputId": "4f72e58c-5f26-4586-b168-f94440383884"
      },
      "source": [
        "#groupby the data by statuts\n",
        "Total_status = final.groupby(\"Status\")[\"ID\"].count()\n",
        "Total_status"
      ],
      "execution_count": null,
      "outputs": [
        {
          "output_type": "execute_result",
          "data": {
            "text/plain": [
              "Status\n",
              "0    145950\n",
              "1    329536\n",
              "2    302229\n",
              "Name: ID, dtype: int64"
            ]
          },
          "metadata": {
            "tags": []
          },
          "execution_count": 144
        }
      ]
    },
    {
      "cell_type": "code",
      "metadata": {
        "colab": {
          "base_uri": "https://localhost:8080/",
          "height": 592
        },
        "id": "IymCmnmUaFEL",
        "outputId": "e33d574e-d5b1-4f47-a659-d4e8291a12e9"
      },
      "source": [
        "#Using matplotlib\n",
        "pie, ax = plt.subplots(figsize=[15,10])\n",
        "labels = Total_status.keys()\n",
        "plt.pie(x=Total_status, autopct=\"%.1f%%\", explode=[0.1]*3, labels=labels, pctdistance=0.5)\n",
        "plt.title(\"Clients by status\", fontsize=14);\n",
        "pie.savefig(\"Clients_by_status.png\")\n",
        "\n",
        "#plt.pie(x=Total_status, autopct=\"%.1f%%\", explode=[0.05]*4, labels=labels, pctdistance=0.5)"
      ],
      "execution_count": null,
      "outputs": [
        {
          "output_type": "display_data",
          "data": {
            "image/png": "[encoded data removed]",
            "text/plain": [
              "<Figure size 1080x720 with 1 Axes>"
            ]
          },
          "metadata": {
            "tags": []
          }
        }
      ]
    },
    {
      "cell_type": "markdown",
      "metadata": {
        "id": "WwL2vpjReS9Q"
      },
      "source": [
        "### **1.4 Categorical data cleaning before encoding**"
      ]
    },
    {
      "cell_type": "markdown",
      "metadata": {
        "id": "wQZZJ2Uxd6b3"
      },
      "source": [
        "We cleaned the categorical data to facilitate the encoding.\n",
        "\n",
        "We have three binary features: gender (M/F) , car and property (Y/N)\n",
        "We clean three categorical data into binary features:\n",
        "- Education level: higher or secondary\n",
        "- Family status : married or single\n",
        "- Housing type : house or apartment\n",
        "\n",
        "We clean two categorical features to have only three classes.\n",
        "- Income type: working, student or retired\n",
        "- Occupation: low-skill, medium-skill or high-skill staff"
      ]
    },
    {
      "cell_type": "code",
      "metadata": {
        "colab": {
          "base_uri": "https://localhost:8080/"
        },
        "id": "y0jD4rKSdnRA",
        "outputId": "60a3a029-648f-44c6-afb9-7a992268f92d"
      },
      "source": [
        "final.Income_type.unique()\n"
      ],
      "execution_count": null,
      "outputs": [
        {
          "output_type": "execute_result",
          "data": {
            "text/plain": [
              "array(['Working', 'Commercial associate', 'Pensioner', 'State servant',\n",
              "       'Student'], dtype=object)"
            ]
          },
          "metadata": {
            "tags": []
          },
          "execution_count": 146
        }
      ]
    },
    {
      "cell_type": "code",
      "metadata": {
        "id": "QIxVR9B-lnFI"
      },
      "source": [
        "final['Income_type'] = final['Income_type'].replace('Commercial associate','Working')\n",
        "final['Income_type'] = final['Income_type'].replace('State servant','Working')\n",
        "final['Income_type'] = final['Income_type'].replace('Pensioner','Retired')"
      ],
      "execution_count": null,
      "outputs": []
    },
    {
      "cell_type": "code",
      "metadata": {
        "colab": {
          "base_uri": "https://localhost:8080/"
        },
        "id": "KhvQ7YSdebM_",
        "outputId": "b24a7488-8f24-47e8-b9be-696dc844e76d"
      },
      "source": [
        "final.Education_level.unique()"
      ],
      "execution_count": null,
      "outputs": [
        {
          "output_type": "execute_result",
          "data": {
            "text/plain": [
              "array(['Higher education', 'Secondary / secondary special',\n",
              "       'Incomplete higher', 'Lower secondary', 'Academic degree'],\n",
              "      dtype=object)"
            ]
          },
          "metadata": {
            "tags": []
          },
          "execution_count": 148
        }
      ]
    },
    {
      "cell_type": "code",
      "metadata": {
        "id": "kWimjyLUedlP"
      },
      "source": [
        "final['Education_level'] = final['Education_level'].replace('Secondary / secondary special','Secondary')\n",
        "final['Education_level'] = final['Education_level'].replace('Lower secondary','Secondary')\n",
        "final['Education_level'] = final['Education_level'].replace('Incomplete higher','Secondary')\n",
        "final['Education_level'] = final['Education_level'].replace('Higher education','Higher')\n",
        "final['Education_level'] = final['Education_level'].replace('Academic degree','Higher')\n"
      ],
      "execution_count": null,
      "outputs": []
    },
    {
      "cell_type": "code",
      "metadata": {
        "colab": {
          "base_uri": "https://localhost:8080/"
        },
        "id": "Rh_cmznGekkv",
        "outputId": "4d59aa28-b9cf-4612-e2fb-de6ae31e100f"
      },
      "source": [
        "final.Family_status.unique()"
      ],
      "execution_count": null,
      "outputs": [
        {
          "output_type": "execute_result",
          "data": {
            "text/plain": [
              "array(['Civil marriage', 'Married', 'Single / not married', 'Separated',\n",
              "       'Widow'], dtype=object)"
            ]
          },
          "metadata": {
            "tags": []
          },
          "execution_count": 150
        }
      ]
    },
    {
      "cell_type": "code",
      "metadata": {
        "id": "UvwuS7WbelYv"
      },
      "source": [
        "final['Family_status'] = final['Family_status'].replace('Single / not married','Single')\n",
        "final['Family_status'] = final['Family_status'].replace('Separated','Single')\n",
        "final['Family_status'] = final['Family_status'].replace('Civil marriage','Married')\n",
        "final['Family_status'] = final['Family_status'].replace('Widow','Single')"
      ],
      "execution_count": null,
      "outputs": []
    },
    {
      "cell_type": "code",
      "metadata": {
        "colab": {
          "base_uri": "https://localhost:8080/"
        },
        "id": "o8KxM88MeoIn",
        "outputId": "693713f6-45b7-4868-81f6-9cf29de4945f"
      },
      "source": [
        "final.Housing_type.unique()"
      ],
      "execution_count": null,
      "outputs": [
        {
          "output_type": "execute_result",
          "data": {
            "text/plain": [
              "array(['Rented apartment', 'House / apartment', 'Municipal apartment',\n",
              "       'With parents', 'Co-op apartment', 'Office apartment'],\n",
              "      dtype=object)"
            ]
          },
          "metadata": {
            "tags": []
          },
          "execution_count": 152
        }
      ]
    },
    {
      "cell_type": "code",
      "metadata": {
        "id": "dhHMy4HIeqIp"
      },
      "source": [
        "final['Housing_type'] = final['Housing_type'].replace('House / apartment','House')\n",
        "final['Housing_type'] = final['Housing_type'].replace('With parents','House')\n",
        "final['Housing_type'] = final['Housing_type'].replace('Rented apartment','Apartment')\n",
        "final['Housing_type'] = final['Housing_type'].replace('Municipal apartment','Apartment')\n",
        "final['Housing_type'] = final['Housing_type'].replace('Co-op apartment','Apartment')\n",
        "final['Housing_type'] = final['Housing_type'].replace('Office apartment','Apartment')"
      ],
      "execution_count": null,
      "outputs": []
    },
    {
      "cell_type": "code",
      "metadata": {
        "colab": {
          "base_uri": "https://localhost:8080/"
        },
        "id": "sM7Zahg_esk_",
        "outputId": "e2031eb8-ae2c-44fb-98da-aad0467b2d4d"
      },
      "source": [
        "final.Occupation.unique()"
      ],
      "execution_count": null,
      "outputs": [
        {
          "output_type": "execute_result",
          "data": {
            "text/plain": [
              "array([nan, 'Security staff', 'Sales staff', 'Accountants', 'Laborers',\n",
              "       'Managers', 'Drivers', 'Core staff', 'High skill tech staff',\n",
              "       'Cleaning staff', 'Private service staff', 'Cooking staff',\n",
              "       'Low-skill Laborers', 'Medicine staff', 'Secretaries',\n",
              "       'Waiters/barmen staff', 'HR staff', 'Realty agents', 'IT staff'],\n",
              "      dtype=object)"
            ]
          },
          "metadata": {
            "tags": []
          },
          "execution_count": 154
        }
      ]
    },
    {
      "cell_type": "code",
      "metadata": {
        "id": "SpVBIMAHj03A"
      },
      "source": [
        "final['Occupation'] = final['Occupation'].replace('Security staff','Low-skill staff')\n",
        "final['Occupation'] = final['Occupation'].replace('Laborers','Low-skill staff')\n",
        "final['Occupation'] = final['Occupation'].replace('Drivers','Low-skill staff')\n",
        "final['Occupation'] = final['Occupation'].replace('Cleaning staff','Low-skill staff')\n",
        "final['Occupation'] = final['Occupation'].replace('Cooking staff','Low-skill staff')\n",
        "final['Occupation'] = final['Occupation'].replace('Low-skill Laborers','Low-skill staff')\n",
        "final['Occupation'] = final['Occupation'].replace('Waiters/barmen staff','Low-skill staff')\n",
        "final['Occupation'] = final['Occupation'].replace('Core staff','Medium-skill staff')\n",
        "final['Occupation'] = final['Occupation'].replace('Secretaries','Medium-skill staff')\n",
        "final['Occupation'] = final['Occupation'].replace('HR staff','Medium-skill staff')\n",
        "final['Occupation'] = final['Occupation'].replace('Realty agents','Medium-skill staff')\n",
        "final['Occupation'] = final['Occupation'].replace('Sales staff','High-skill staff')\n",
        "final['Occupation'] = final['Occupation'].replace('Accountants','High-skill staff')\n",
        "final['Occupation'] = final['Occupation'].replace('Managers','High-skill staff')\n",
        "final['Occupation'] = final['Occupation'].replace('High skill tech staff','High-skill staff')\n",
        "final['Occupation'] = final['Occupation'].replace('IT staff','High-skill staff')\n",
        "final['Occupation'] = final['Occupation'].replace('Medicine staff','High-skill staff')\n",
        "final['Occupation'] = final['Occupation'].replace('Private service staff','High-skill staff')\n"
      ],
      "execution_count": null,
      "outputs": []
    },
    {
      "cell_type": "markdown",
      "metadata": {
        "id": "X_uYG8vTe3BQ"
      },
      "source": [
        "### **1.5 Handling missing values**"
      ]
    },
    {
      "cell_type": "code",
      "metadata": {
        "id": "DynPaMmYI74f"
      },
      "source": [
        "missing_values_count = final.isnull().sum()"
      ],
      "execution_count": null,
      "outputs": []
    },
    {
      "cell_type": "code",
      "metadata": {
        "id": "_br9Fih1e37K"
      },
      "source": [
        "missing = final[final.isna().any(axis=1)]"
      ],
      "execution_count": null,
      "outputs": []
    },
    {
      "cell_type": "code",
      "metadata": {
        "colab": {
          "base_uri": "https://localhost:8080/"
        },
        "id": "iG3ZXs9VIRWP",
        "outputId": "4b6fd7fe-41b8-444c-919c-3179f37131e9"
      },
      "source": [
        "missing.isnull().sum()"
      ],
      "execution_count": null,
      "outputs": [
        {
          "output_type": "execute_result",
          "data": {
            "text/plain": [
              "ID                      0\n",
              "Status                  0\n",
              "Gender                  0\n",
              "Car                     0\n",
              "Property                0\n",
              "ChildNo                 0\n",
              "Income                  0\n",
              "Income_type             0\n",
              "Education_level         0\n",
              "Family_status           0\n",
              "Housing_type            0\n",
              "Age                     0\n",
              "Years_employed          0\n",
              "Occupation         240048\n",
              "Family_size             0\n",
              "dtype: int64"
            ]
          },
          "metadata": {
            "tags": []
          },
          "execution_count": 158
        }
      ]
    },
    {
      "cell_type": "code",
      "metadata": {
        "colab": {
          "base_uri": "https://localhost:8080/"
        },
        "id": "uZQPmRBKfCQ4",
        "outputId": "41bfbf34-d018-46e3-908b-7e1a39dbd2b0"
      },
      "source": [
        "# percent of data that is missing\n",
        "missing.shape[0]/final.shape[0]"
      ],
      "execution_count": null,
      "outputs": [
        {
          "output_type": "execute_result",
          "data": {
            "text/plain": [
              "0.30865805597166057"
            ]
          },
          "metadata": {
            "tags": []
          },
          "execution_count": 159
        }
      ]
    },
    {
      "cell_type": "code",
      "metadata": {
        "id": "FcA33EgxfH_n"
      },
      "source": [
        "# remove all the rows that contain a missing value\n",
        "final = final.dropna()\n",
        "\n",
        "#or\n",
        "\n",
        "# replace all NA's with 0\n",
        "#subset_nfl_data.fillna(0)"
      ],
      "execution_count": null,
      "outputs": []
    },
    {
      "cell_type": "code",
      "metadata": {
        "colab": {
          "base_uri": "https://localhost:8080/"
        },
        "id": "CeREAMKLfPyI",
        "outputId": "41351bce-4b0d-44b1-88e4-4b1a1cdf56d7"
      },
      "source": [
        "final['Status'].value_counts()"
      ],
      "execution_count": null,
      "outputs": [
        {
          "output_type": "execute_result",
          "data": {
            "text/plain": [
              "1    226185\n",
              "2    209315\n",
              "0    102167\n",
              "Name: Status, dtype: int64"
            ]
          },
          "metadata": {
            "tags": []
          },
          "execution_count": 161
        }
      ]
    },
    {
      "cell_type": "code",
      "metadata": {
        "colab": {
          "base_uri": "https://localhost:8080/"
        },
        "id": "-cymnFA4fWCR",
        "outputId": "3c92e2fa-051e-4850-cef8-c9ec7bc28015"
      },
      "source": [
        "#groupby the data by statuts\n",
        "Total_status = final.groupby(\"Status\")[\"ID\"].count()\n",
        "Total_status"
      ],
      "execution_count": null,
      "outputs": [
        {
          "output_type": "execute_result",
          "data": {
            "text/plain": [
              "Status\n",
              "0    102167\n",
              "1    226185\n",
              "2    209315\n",
              "Name: ID, dtype: int64"
            ]
          },
          "metadata": {
            "tags": []
          },
          "execution_count": 162
        }
      ]
    },
    {
      "cell_type": "code",
      "metadata": {
        "colab": {
          "base_uri": "https://localhost:8080/"
        },
        "id": "4nDXz-pVfaHa",
        "outputId": "83570e10-8f49-4834-a195-59a706e24717"
      },
      "source": [
        "#Using matplotlib\n",
        "pie, ax = plt.subplots(figsize=[15,10])\n",
        "labels = Total_status.keys()\n",
        "plt.pie(x=Total_status, autopct=\"%.1f%%\", explode=[0.1]*3, labels=labels, pctdistance=0.5)\n",
        "plt.title(\"Clients by status\", fontsize=14);\n",
        "pie.savefig(\"Clients_by_status.png\")\n",
        "\n",
        "#plt.pie(x=Total_status, autopct=\"%.1f%%\", explode=[0.05]*4, labels=labels, pctdistance=0.5)"
      ],
      "execution_count": null,
      "outputs": [
        {
          "output_type": "display_data",
          "data": {
            "image/png": "[encoded data removed]",
            "text/plain": [
              "<Figure size 1080x720 with 1 Axes>"
            ]
          },
          "metadata": {
            "tags": []
          }
        }
      ]
    },
    {
      "cell_type": "markdown",
      "metadata": {
        "id": "4ayBT1i2felg"
      },
      "source": [
        "Removing the missing values do not change the proportion of the class labels"
      ]
    },
    {
      "cell_type": "markdown",
      "metadata": {
        "id": "5p-gJ1Zb6hCj"
      },
      "source": [
        "### **1.6 Stratified random sampling**\n",
        "\n",
        "\n"
      ]
    },
    {
      "cell_type": "markdown",
      "metadata": {
        "id": "I-KRCMaS6sML"
      },
      "source": [
        "The goal is to keep the same proportions of class labels as the original to test our model with different sample size"
      ]
    },
    {
      "cell_type": "code",
      "metadata": {
        "id": "oA23bYZbsXSp"
      },
      "source": [
        "# Code : https://www.statology.org/stratified-sampling-pandas/\n",
        "#define total sample size desired\n",
        "N = 5000\n",
        "\n",
        "#perform stratified random sampling\n",
        "sample_final=final.groupby('Status', group_keys=False).apply(lambda x: x.sample(int(np.rint(N*len(x)/len(final))))).sample(frac=1, replace=True).reset_index(drop=True)"
      ],
      "execution_count": null,
      "outputs": []
    },
    {
      "cell_type": "code",
      "metadata": {
        "colab": {
          "base_uri": "https://localhost:8080/"
        },
        "id": "C0khDc_9u1wC",
        "outputId": "64d77df2-7d30-495f-b1c0-e76ff5517db4"
      },
      "source": [
        "sample_final.shape"
      ],
      "execution_count": null,
      "outputs": [
        {
          "output_type": "execute_result",
          "data": {
            "text/plain": [
              "(5000, 15)"
            ]
          },
          "metadata": {
            "tags": []
          },
          "execution_count": 165
        }
      ]
    },
    {
      "cell_type": "code",
      "metadata": {
        "colab": {
          "base_uri": "https://localhost:8080/",
          "height": 592
        },
        "id": "xKRKH_Ezu6_c",
        "outputId": "e2930d04-5107-46f4-82a5-0715281d6218"
      },
      "source": [
        "#groupby the data by statuts\n",
        "Total_status = sample_final.groupby(\"Status\")[\"ID\"].count()\n",
        "Total_status\n",
        "\n",
        "#Using matplotlib\n",
        "pie, ax = plt.subplots(figsize=[15,10])\n",
        "labels = Total_status.keys()\n",
        "plt.pie(x=Total_status, autopct=\"%.1f%%\", explode=[0.1]*3, labels=labels, pctdistance=0.5)\n",
        "plt.title(\"Clients by status\", fontsize=14);\n",
        "pie.savefig(\"Clients_by_status.png\")\n",
        "\n",
        "#plt.pie(x=Total_status, autopct=\"%.1f%%\", explode=[0.05]*4, labels=labels, pctdistance=0.5)"
      ],
      "execution_count": null,
      "outputs": [
        {
          "output_type": "display_data",
          "data": {
            "image/png": "[encoded data removed]",
            "text/plain": [
              "<Figure size 1080x720 with 1 Axes>"
            ]
          },
          "metadata": {
            "tags": []
          }
        }
      ]
    },
    {
      "cell_type": "markdown",
      "metadata": {
        "id": "H7hroEaW7cCa"
      },
      "source": [
        "The proportions are the same as the original regardless the sample size"
      ]
    },
    {
      "cell_type": "markdown",
      "metadata": {
        "id": "B0Ux4yCs7Qk9"
      },
      "source": [
        "### **1.8 Correlation matrix**"
      ]
    },
    {
      "cell_type": "markdown",
      "metadata": {
        "id": "22zTImWEfQtr"
      },
      "source": [
        "We want to evaluate the correlation between variables"
      ]
    },
    {
      "cell_type": "code",
      "metadata": {
        "colab": {
          "base_uri": "https://localhost:8080/"
        },
        "id": "Z9dsYssZfh9U",
        "outputId": "dc70f4ea-df03-4564-a719-b3a6b1cfa960"
      },
      "source": [
        "corr_matrix = sample_final.corr()\n",
        "# Plot the correlation with seaborn\n",
        "plt.subplots(figsize = (10, 5))\n",
        "sns.heatmap(corr_matrix, annot = True)\n",
        "plt.show()"
      ],
      "execution_count": null,
      "outputs": [
        {
          "output_type": "display_data",
          "data": {
            "image/png": "[encoded data removed]",
            "text/plain": [
              "<Figure size 720x360 with 2 Axes>"
            ]
          },
          "metadata": {
            "tags": []
          }
        }
      ]
    },
    {
      "cell_type": "markdown",
      "metadata": {
        "id": "rS2pYWx_fU0x"
      },
      "source": [
        "Overall, the features are not that correlated between each other. The highest result is with the age and the number of children and with the family size, which makes sense."
      ]
    },
    {
      "cell_type": "markdown",
      "metadata": {
        "id": "FYAfLB7R7sVp"
      },
      "source": [
        "### **1.9 Creation of an Excel file (optional)**\n"
      ]
    },
    {
      "cell_type": "code",
      "metadata": {
        "id": "jVbpro277zj8"
      },
      "source": [
        " #!pip install openpyxl"
      ],
      "execution_count": null,
      "outputs": []
    },
    {
      "cell_type": "code",
      "metadata": {
        "id": "BClmr1mS70NJ"
      },
      "source": [
        "# create excel writer object\n",
        "\n",
        "#writer = pd.ExcelWriter('output.xlsx')\n",
        "# write dataframe to excel\n",
        "\n",
        "#final.to_excel(writer)\n",
        "# save the excel\n",
        "\n",
        "#writer.save()\n",
        "#print('DataFrame is written successfully to Excel File.')"
      ],
      "execution_count": null,
      "outputs": []
    },
    {
      "cell_type": "markdown",
      "metadata": {
        "id": "_yhZKyqGZxyB"
      },
      "source": [
        "## **II/ Machine Learning**\n"
      ]
    },
    {
      "cell_type": "markdown",
      "metadata": {
        "id": "IP3uTy2F1Pfl"
      },
      "source": [
        "### **2.1 Split dataset**\n",
        "#### Dataset is split to maintain label distibution in training and test sets\n"
      ]
    },
    {
      "cell_type": "code",
      "metadata": {
        "id": "tIgwY0UfgjDI"
      },
      "source": [
        "from sklearn.model_selection import train_test_split\n",
        "\n",
        "X, y = sample_final.iloc[:, 2:].values, sample_final.iloc[:, 1].values  #the status column is on the third position\n",
        "#y = y.astype('int')\n",
        "X_train, X_test, y_train, y_test =\\\n",
        "    train_test_split(X, y, \n",
        "                     test_size=0.2,random_state=1,stratify=y)\n",
        "    "
      ],
      "execution_count": null,
      "outputs": []
    },
    {
      "cell_type": "markdown",
      "metadata": {
        "id": "GNvxssT0p_zl"
      },
      "source": [
        "### **2.2 Encode categorical variables for processing**\n",
        "\n"
      ]
    },
    {
      "cell_type": "code",
      "metadata": {
        "id": "moTF_OOJgmzj"
      },
      "source": [
        "#need to convert array to dataframe with column names for column transform to work\n",
        "X_train_df = pd.DataFrame(X_train)\n",
        "X_train_df.columns = sample_final.iloc[:, 2:].columns\n",
        "X_train_df = pd.get_dummies(X_train_df, drop_first=True,\n",
        "                            columns = ['Gender', 'Car','Property','Education_level','Family_status','Housing_type','Income_type','Occupation'] )\n"
      ],
      "execution_count": null,
      "outputs": []
    },
    {
      "cell_type": "markdown",
      "metadata": {
        "id": "dJVdzYY44iFB"
      },
      "source": [
        "### **2.3 Select Algorithm with Nested Cross Validation**\n",
        "\n",
        "Use GridSearch and CrossValidation to determine optimum parameters of each model and compare accuracy scores to choose the best algorithm\n",
        "\n"
      ]
    },
    {
      "cell_type": "markdown",
      "metadata": {
        "id": "qIwYTbMPV90a"
      },
      "source": [
        "**2.3.1 Logistic Regression**"
      ]
    },
    {
      "cell_type": "code",
      "metadata": {
        "id": "2Mb_Np1c5GlI",
        "colab": {
          "base_uri": "https://localhost:8080/"
        },
        "outputId": "486b300e-79af-427e-cd54-d83b210eab2c"
      },
      "source": [
        "from sklearn.pipeline import make_pipeline\n",
        "from sklearn.preprocessing import StandardScaler\n",
        "from sklearn.model_selection import GridSearchCV\n",
        "from sklearn.model_selection import cross_val_score\n",
        "from sklearn.linear_model import LogisticRegression\n",
        "\n",
        "lr = LogisticRegression()\n",
        "\n",
        "pipe_lr = make_pipeline(StandardScaler(),\n",
        "                        LogisticRegression(max_iter=10000))\n",
        "\n",
        "#create dictionary of parameters for grid searching\n",
        "C = np.logspace(-4, 4, 50)\n",
        "parameters = dict(logisticregression__C=C)\n",
        "\n",
        "gs_lr = GridSearchCV(pipe_lr, parameters, cv=2)\n",
        "\n",
        "scores_lr = cross_val_score(gs_lr, X_train_df, y_train, cv = 5)\n",
        "\n",
        "print('CV accuracy: %.3f +/- %.3f' % (np.mean(scores_lr),\n",
        "                                      np.std(scores_lr)))\n",
        "\n"
      ],
      "execution_count": null,
      "outputs": [
        {
          "output_type": "stream",
          "text": [
            "CV accuracy: 0.428 +/- 0.010\n"
          ],
          "name": "stdout"
        }
      ]
    },
    {
      "cell_type": "code",
      "metadata": {
        "id": "Xg5KADuREoWn",
        "colab": {
          "base_uri": "https://localhost:8080/"
        },
        "outputId": "dac7ab5f-2f78-4941-8cd2-670327b43ba2"
      },
      "source": [
        "#view best regularization parameter\n",
        "gs_lr_fit = gs_lr.fit(X_train_df, y_train)\n",
        "\n",
        "print(gs_lr_fit.best_params_)"
      ],
      "execution_count": null,
      "outputs": [
        {
          "output_type": "stream",
          "text": [
            "{'logisticregression__C': 0.0006551285568595509}\n"
          ],
          "name": "stdout"
        }
      ]
    },
    {
      "cell_type": "markdown",
      "metadata": {
        "id": "GIaBhKBsA23t"
      },
      "source": [
        "**2.3.2 Random Forest; nested cross validation takes too long to run, so the optimized model has been saved using pickle**"
      ]
    },
    {
      "cell_type": "code",
      "metadata": {
        "id": "8h0MHnGCJzeL"
      },
      "source": [
        "from sklearn.ensemble import RandomForestClassifier\n",
        "\n",
        "rfc = RandomForestClassifier(n_jobs = -1)\n",
        "\n",
        "max_depth = [1,2,3,4,5,None]\n",
        "n_estimators = np.linspace(50,500,10,dtype=int)\n",
        "\n",
        "\n",
        "parameters = dict(max_depth=max_depth, n_estimators = n_estimators)\n",
        "\n",
        "gs_rfc = GridSearchCV(rfc, parameters, cv=2)\n",
        "\n",
        "#scores_rfc = cross_val_score(gs_rfc, X_train_df, y_train, cv = 5)\n"
      ],
      "execution_count": null,
      "outputs": []
    },
    {
      "cell_type": "code",
      "metadata": {
        "id": "-_p63RkXPXDv"
      },
      "source": [
        "#gs_rfc_fit = gs_rfc.fit(X_train_df, y_train)\n",
        "\n",
        "#print(gs_rfc_fit.best_params_)"
      ],
      "execution_count": null,
      "outputs": []
    },
    {
      "cell_type": "markdown",
      "metadata": {
        "id": "RZ6B3keISjoN"
      },
      "source": [
        "Saved optimized parameters"
      ]
    },
    {
      "cell_type": "code",
      "metadata": {
        "id": "p7pOLNk0MpxF"
      },
      "source": [
        "#saves model results in a file\n",
        "import pickle \n",
        "\n",
        "#with open('model_params', 'wb') as f:\n",
        "#  pickle.dump(gs_rfc_fit, f)"
      ],
      "execution_count": null,
      "outputs": []
    },
    {
      "cell_type": "code",
      "metadata": {
        "id": "4bHh00SXpPqp",
        "colab": {
          "base_uri": "https://localhost:8080/"
        },
        "outputId": "1ace2a77-b619-4f5e-89db-970689f77aed"
      },
      "source": [
        "#unzip file containing model results\n",
        "!unzip /Pickle_Files.zip"
      ],
      "execution_count": null,
      "outputs": [
        {
          "output_type": "stream",
          "text": [
            "unzip:  cannot find or open /Pickle_Files.zip, /Pickle_Files.zip.zip or /Pickle_Files.zip.ZIP.\n"
          ],
          "name": "stdout"
        }
      ]
    },
    {
      "cell_type": "code",
      "metadata": {
        "id": "aaCmVXUJOUri",
        "colab": {
          "base_uri": "https://localhost:8080/",
          "height": 178
        },
        "outputId": "4d0d8da1-9364-4e79-958b-1a0ad619404e"
      },
      "source": [
        "with open('Pickle_Files/model_params', 'rb') as f:\n",
        "  rfc_params = pickle.load(f)"
      ],
      "execution_count": null,
      "outputs": [
        {
          "output_type": "error",
          "ename": "FileNotFoundError",
          "evalue": "ignored",
          "traceback": [
            "\u001b[0;31m---------------------------------------------------------------------------\u001b[0m",
            "\u001b[0;31mFileNotFoundError\u001b[0m                         Traceback (most recent call last)",
            "\u001b[0;32m<ipython-input-178-bc3ffd58eec1>\u001b[0m in \u001b[0;36m<module>\u001b[0;34m()\u001b[0m\n\u001b[0;32m----> 1\u001b[0;31m \u001b[0;32mwith\u001b[0m \u001b[0mopen\u001b[0m\u001b[0;34m(\u001b[0m\u001b[0;34m'Pickle_Files/model_params'\u001b[0m\u001b[0;34m,\u001b[0m \u001b[0;34m'rb'\u001b[0m\u001b[0;34m)\u001b[0m \u001b[0;32mas\u001b[0m \u001b[0mf\u001b[0m\u001b[0;34m:\u001b[0m\u001b[0;34m\u001b[0m\u001b[0;34m\u001b[0m\u001b[0m\n\u001b[0m\u001b[1;32m      2\u001b[0m   \u001b[0mrfc_params\u001b[0m \u001b[0;34m=\u001b[0m \u001b[0mpickle\u001b[0m\u001b[0;34m.\u001b[0m\u001b[0mload\u001b[0m\u001b[0;34m(\u001b[0m\u001b[0mf\u001b[0m\u001b[0;34m)\u001b[0m\u001b[0;34m\u001b[0m\u001b[0;34m\u001b[0m\u001b[0m\n",
            "\u001b[0;31mFileNotFoundError\u001b[0m: [Errno 2] No such file or directory: 'Pickle_Files/model_params'"
          ]
        }
      ]
    },
    {
      "cell_type": "code",
      "metadata": {
        "id": "9NfGuyMTBGyj"
      },
      "source": [
        "rfc_params.best_params_"
      ],
      "execution_count": null,
      "outputs": []
    },
    {
      "cell_type": "markdown",
      "metadata": {
        "id": "DquIsA0cS0kO"
      },
      "source": [
        "Save cross validation results to file"
      ]
    },
    {
      "cell_type": "code",
      "metadata": {
        "id": "5xpOoufh2CV1"
      },
      "source": [
        "#with open('rfc_pickle', 'wb') as f:\n",
        "#  pickle.dump(scores_rfc, f)"
      ],
      "execution_count": null,
      "outputs": []
    },
    {
      "cell_type": "code",
      "metadata": {
        "id": "1pj9PNL23j2N"
      },
      "source": [
        "with open('Pickle_Files/rfc_pickle', 'rb') as f:\n",
        "  rfc_model = pickle.load(f)"
      ],
      "execution_count": null,
      "outputs": []
    },
    {
      "cell_type": "code",
      "metadata": {
        "id": "Ae6nZIYR34my"
      },
      "source": [
        "print('CV accuracy: %.3f +/- %.3f' % (np.mean(rfc_model),\n",
        "                                      np.std(rfc_model)))"
      ],
      "execution_count": null,
      "outputs": []
    },
    {
      "cell_type": "markdown",
      "metadata": {
        "id": "N0ZpLZPeV3FV"
      },
      "source": [
        "**2.3.3 Support Vector Classification**"
      ]
    },
    {
      "cell_type": "code",
      "metadata": {
        "id": "7R3wQO5WF1nF"
      },
      "source": [
        "from sklearn.svm import SVC\n",
        "\n",
        "pipe_svc = make_pipeline(StandardScaler(),\n",
        "                         SVC(random_state=1))\n",
        "\n",
        "param_range = [0.01, 0.1, 1.0, 10.0]\n",
        "\n",
        "param_grid = [{'svc__C': param_range,\n",
        "               'svc__kernel': ['linear']},\n",
        "              {'svc__C': param_range,\n",
        "               'svc__gamma': param_range,\n",
        "               'svc__kernel': ['rbf']}]\n",
        "\n",
        "gs_svc = GridSearchCV(estimator=pipe_svc,param_grid=param_grid,\n",
        "                  cv=2,\n",
        "                  n_jobs=-1)\n",
        "\n",
        "scores_svc = cross_val_score(gs_svc, X_train_df, y_train, cv = 5)\n",
        "\n",
        "print('CV accuracy: %.3f +/- %.3f' % (np.mean(scores_svc),\n",
        "                                      np.std(scores_svc)))\n"
      ],
      "execution_count": null,
      "outputs": []
    },
    {
      "cell_type": "code",
      "metadata": {
        "id": "M8fV6FGHc3qS"
      },
      "source": [
        "gs_svc_fit = gs_svc.fit(X_train_df, y_train)\n",
        "\n",
        "print(gs_svc_fit.best_params_)"
      ],
      "execution_count": null,
      "outputs": []
    },
    {
      "cell_type": "markdown",
      "metadata": {
        "id": "gO3DyM8sYIZ3"
      },
      "source": [
        "Though all three models performed relatively poorly, further analysis will only focus on the Support Vector Classifier and the Random Forest Classifier, both scoring at about 66% accuracy"
      ]
    },
    {
      "cell_type": "markdown",
      "metadata": {
        "id": "XGSKWW-Nb7WC"
      },
      "source": [
        "###**2.4 Learning Curves**\n",
        "\n",
        "We will now investigate the poor performance to see if we can improve the accuracy"
      ]
    },
    {
      "cell_type": "code",
      "metadata": {
        "id": "ppbAlQCnd2SE"
      },
      "source": [
        "import matplotlib.pyplot as plt\n",
        "from sklearn.model_selection import learning_curve\n",
        "\n",
        "\n",
        "forest = RandomForestClassifier(n_estimators=250,\n",
        "                                random_state=1)\n",
        "\n",
        "train_sizes, train_scores, test_scores =\\\n",
        "                learning_curve(estimator=forest,\n",
        "                               X=X_train_df,\n",
        "                               y=y_train,\n",
        "                               train_sizes=np.linspace(0.1, 1.0, 10),\n",
        "                               cv=5,\n",
        "                               n_jobs=-1)\n",
        "                "
      ],
      "execution_count": null,
      "outputs": []
    },
    {
      "cell_type": "code",
      "metadata": {
        "id": "Q5ak8QzweZPu"
      },
      "source": [
        "train_mean = np.mean(train_scores, axis=1)\n",
        "train_std = np.std(train_scores, axis=1)\n",
        "test_mean = np.mean(test_scores, axis=1)\n",
        "test_std = np.std(test_scores, axis=1)\n",
        "\n",
        "plt.title('Learning Curve - Random Forest Classifier')\n",
        "plt.plot(train_sizes, train_mean,\n",
        "         color='blue', marker='o',\n",
        "         markersize=5, label='Training accuracy')\n",
        "\n",
        "plt.fill_between(train_sizes,\n",
        "                 train_mean + train_std,\n",
        "                 train_mean - train_std,\n",
        "                 alpha=0.15, color='blue')\n",
        "\n",
        "plt.plot(train_sizes, test_mean,\n",
        "         color='green', linestyle='--',\n",
        "         marker='s', markersize=5,\n",
        "         label='Validation accuracy')\n",
        "\n",
        "plt.fill_between(train_sizes,\n",
        "                 test_mean + test_std,\n",
        "                 test_mean - test_std,\n",
        "                 alpha=0.15, color='green')\n",
        "\n",
        "plt.grid()\n",
        "plt.xlabel('Number of training examples')\n",
        "plt.ylabel('Accuracy')\n",
        "plt.legend(loc='upper right')\n",
        "plt.ylim([0.3, 1.03])\n",
        "plt.tight_layout()\n",
        "# plt.savefig('images/06_05.png', dpi=300)\n",
        "plt.show()"
      ],
      "execution_count": null,
      "outputs": []
    },
    {
      "cell_type": "code",
      "metadata": {
        "id": "Szl_mLsPf6dk"
      },
      "source": [
        "pipe_svc = make_pipeline(StandardScaler(),\n",
        "                         SVC(random_state=1, C=10, gamma=10, kernel='rbf'))\n",
        "\n",
        "train_sizes, train_scores, test_scores =\\\n",
        "                learning_curve(estimator=pipe_svc,\n",
        "                               X=X_train_df,\n",
        "                               y=y_train,\n",
        "                               train_sizes=np.linspace(0.1, 1.0, 10),\n",
        "                               cv=5,\n",
        "                               n_jobs=-1)\n",
        "                "
      ],
      "execution_count": null,
      "outputs": []
    },
    {
      "cell_type": "code",
      "metadata": {
        "id": "n6fAWYJveTd7"
      },
      "source": [
        "train_mean = np.mean(train_scores, axis=1)\n",
        "train_std = np.std(train_scores, axis=1)\n",
        "test_mean = np.mean(test_scores, axis=1)\n",
        "test_std = np.std(test_scores, axis=1)\n",
        "\n",
        "plt.title('Learning Curve - Support Vector Classifier')\n",
        "plt.plot(train_sizes, train_mean,\n",
        "         color='blue', marker='o',\n",
        "         markersize=5, label='Training accuracy')\n",
        "\n",
        "plt.fill_between(train_sizes,\n",
        "                 train_mean + train_std,\n",
        "                 train_mean - train_std,\n",
        "                 alpha=0.15, color='blue')\n",
        "\n",
        "plt.plot(train_sizes, test_mean,\n",
        "         color='green', linestyle='--',\n",
        "         marker='s', markersize=5,\n",
        "         label='Validation accuracy')\n",
        "\n",
        "plt.fill_between(train_sizes,\n",
        "                 test_mean + test_std,\n",
        "                 test_mean - test_std,\n",
        "                 alpha=0.15, color='green')\n",
        "\n",
        "plt.grid()\n",
        "plt.xlabel('Number of training examples')\n",
        "plt.ylabel('Accuracy')\n",
        "plt.legend(loc='upper right')\n",
        "plt.ylim([0.3, 1.03])\n",
        "plt.tight_layout()\n",
        "# plt.savefig('images/06_05.png', dpi=300)\n",
        "plt.show()"
      ],
      "execution_count": null,
      "outputs": []
    },
    {
      "cell_type": "markdown",
      "metadata": {
        "id": "gBoJdtlyj3vE"
      },
      "source": [
        "From the learning curves, we can see that the models are overfitting. The models may benefit from a simpler model, some feature reduction, and also from more samples"
      ]
    },
    {
      "cell_type": "markdown",
      "metadata": {
        "id": "7NQhuROp1Xpw"
      },
      "source": [
        "###**2.5 Feature Selection**\n",
        "Rascha chap 4\n",
        "\n",
        "This section tries to improve our models' performance by the following feature reduction processes:\n",
        "\n",
        "\n",
        "\n",
        "1.   Random forest feature reduction\n",
        "2.   Principal Component Analysis (PCA)\n",
        "3.   Linear Discriminant Analysis (LDA)\n",
        "4.   Kernel Principal Component Analysis (KPCA)\n",
        "\n"
      ]
    },
    {
      "cell_type": "code",
      "metadata": {
        "id": "VKO-WVVC13FM"
      },
      "source": [
        "feat_labels = X_train_df.columns\n",
        "\n",
        "forest = RandomForestClassifier(n_estimators=250,\n",
        "                                random_state=1)\n",
        "\n",
        "forest.fit(X_train_df, y_train)\n",
        "importances = forest.feature_importances_\n",
        "\n",
        "indices = np.argsort(importances)[::-1]\n",
        "\n",
        "for f in range(X_train_df.shape[1]):\n",
        "    print(\"%2d) %-*s %f\" % (f + 1, 30, \n",
        "                            feat_labels[indices[f]], \n",
        "                            importances[indices[f]]))\n",
        "\n",
        "plt.title('Feature Importance')\n",
        "plt.bar(range(X_train_df.shape[1]), \n",
        "        importances[indices],\n",
        "        align='center')\n",
        "\n",
        "plt.xticks(range(X_train_df.shape[1]), \n",
        "           feat_labels[indices], rotation=90)\n",
        "plt.xlim([-1, X_train_df.shape[1]])\n",
        "plt.tight_layout()\n",
        "#plt.savefig('images/04_09.png', dpi=300)\n",
        "plt.show()"
      ],
      "execution_count": null,
      "outputs": []
    },
    {
      "cell_type": "code",
      "metadata": {
        "id": "ym0xFWOJWled"
      },
      "source": [
        "stdsc = StandardScaler()\n",
        "\n",
        "X_train_std = stdsc.fit_transform(X_train_df)"
      ],
      "execution_count": null,
      "outputs": []
    },
    {
      "cell_type": "code",
      "metadata": {
        "id": "ECyS2VDyUbug"
      },
      "source": [
        "from sklearn.discriminant_analysis import LinearDiscriminantAnalysis as LDA \n",
        "\n",
        "lda = LDA(n_components=None)\n",
        "\n",
        "X_train_lda = lda.fit_transform(X_train_std, y_train)\n",
        "\n",
        "EXP_VAR_LDA = lda.explained_variance_ratio_"
      ],
      "execution_count": null,
      "outputs": []
    },
    {
      "cell_type": "code",
      "metadata": {
        "id": "llQIRJJ4Uj8Y"
      },
      "source": [
        "indices = np.argsort(EXP_VAR_LDA)[::-1]\n",
        "\n",
        "plt.title('Explained Variance Ratio - LDA')\n",
        "plt.bar(range(X_train_lda.shape[1]), \n",
        "        EXP_VAR_LDA[indices],\n",
        "        align='center')\n",
        "\n",
        "plt.xticks(range(X_train_lda.shape[1]), \n",
        "           list(range(1,len(EXP_VAR_LDA)+1)))\n",
        "plt.xlim([-1, X_train_lda.shape[1]])\n",
        "plt.tight_layout()\n",
        "#plt.savefig('images/04_09.png', dpi=300)\n",
        "plt.show()"
      ],
      "execution_count": null,
      "outputs": []
    },
    {
      "cell_type": "code",
      "metadata": {
        "id": "Ttqxb_WNVGQm"
      },
      "source": [
        "from sklearn.decomposition import PCA\n",
        "\n",
        "pca = PCA(n_components=None)\n",
        "\n",
        "pca_3 = PCA(n_components=3)\n",
        "\n",
        "X_train_pca = pca.fit_transform(X_train_std)\n",
        "\n",
        "X_train_pca_3 = pca_3.fit_transform(X_train_std)\n",
        "\n",
        "EXP_VAR = pca.explained_variance_ratio_"
      ],
      "execution_count": null,
      "outputs": []
    },
    {
      "cell_type": "code",
      "metadata": {
        "id": "sg-bp275VLKa"
      },
      "source": [
        "indices = np.argsort(EXP_VAR)[::-1]\n",
        "\n",
        "plt.title('PCA Explained Variance Ratio')\n",
        "plt.bar(range(X_train_pca.shape[1]), \n",
        "        EXP_VAR[indices],\n",
        "        align='center')\n",
        "\n",
        "plt.xticks(range(X_train_pca.shape[1]), \n",
        "           list(range(1,len(EXP_VAR))))\n",
        "plt.xlim([-1, X_train_pca.shape[1]])\n",
        "plt.tight_layout()\n",
        "#plt.savefig('images/04_09.png', dpi=300)\n",
        "plt.show()"
      ],
      "execution_count": null,
      "outputs": []
    },
    {
      "cell_type": "code",
      "metadata": {
        "id": "kQ3DiWbHXQvC"
      },
      "source": [
        "from sklearn.decomposition import KernelPCA\n",
        "\n",
        "scikit_kpca = KernelPCA(n_components=3, kernel='rbf', gamma=15)\n",
        "X_skernpca = scikit_kpca.fit_transform(X_train_std)\n"
      ],
      "execution_count": null,
      "outputs": []
    },
    {
      "cell_type": "markdown",
      "metadata": {
        "id": "RzOmTkzttdW8"
      },
      "source": [
        "**2.5.1 Estimate model with 3 most important features**"
      ]
    },
    {
      "cell_type": "code",
      "metadata": {
        "id": "ONsmtEYsxVJ5"
      },
      "source": [
        "X_train_3 = X_train_df[['Age','Income','Years_employed']]"
      ],
      "execution_count": null,
      "outputs": []
    },
    {
      "cell_type": "code",
      "metadata": {
        "id": "kORFmPGPwllH"
      },
      "source": [
        "pipe_svc = make_pipeline(StandardScaler(),\n",
        "                         SVC(random_state=1, C=10.0, gamma= 10.0, kernel='rbf'))\n",
        "\n",
        "scores_svc_3 = cross_val_score(pipe_svc, X_train_3, y_train, cv=5)\n",
        "\n",
        "print('CV accuracy: %.3f +/- %.3f' % (np.mean(scores_svc_3),\n",
        "                                      np.std(scores_svc_3)))"
      ],
      "execution_count": null,
      "outputs": []
    },
    {
      "cell_type": "code",
      "metadata": {
        "id": "bTx9N6SdYldc"
      },
      "source": [
        "forest = RandomForestClassifier(n_estimators=250,\n",
        "                                max_depth=None,\n",
        "                                random_state=1)\n",
        "\n",
        "scores_rfc_3 = cross_val_score(forest, X_train_3, y_train, cv = 5)\n",
        "\n",
        "print('CV accuracy: %.3f +/- %.3f' % (np.mean(scores_rfc_3),\n",
        "                                      np.std(scores_rfc_3)))\n"
      ],
      "execution_count": null,
      "outputs": []
    },
    {
      "cell_type": "markdown",
      "metadata": {
        "id": "3HL9Dzd6uwIx"
      },
      "source": [
        "**2.5.2 Estimate models with PCA**"
      ]
    },
    {
      "cell_type": "code",
      "metadata": {
        "id": "WIDoMJxIxhtT"
      },
      "source": [
        "scores_svc_pca = cross_val_score(pipe_svc, X_train_pca_3, y_train, cv = 5)\n",
        "\n",
        "print('CV accuracy: %.3f +/- %.3f' % (np.mean(scores_svc_pca),\n",
        "                                      np.std(scores_svc_pca)))"
      ],
      "execution_count": null,
      "outputs": []
    },
    {
      "cell_type": "code",
      "metadata": {
        "id": "HW5V_J_AoLyD"
      },
      "source": [
        "scores_rfc_pca = cross_val_score(forest, X_train_pca_3, y_train, cv = 5)\n",
        "\n",
        "print('CV accuracy: %.3f +/- %.3f' % (np.mean(scores_rfc_pca),\n",
        "                                      np.std(scores_rfc_pca)))"
      ],
      "execution_count": null,
      "outputs": []
    },
    {
      "cell_type": "markdown",
      "metadata": {
        "id": "u8jUwSB0vKBu"
      },
      "source": [
        "**2.5.3 Estimate models with LDA**"
      ]
    },
    {
      "cell_type": "code",
      "metadata": {
        "id": "lGIOUxxhxwNZ"
      },
      "source": [
        "scores_svc_lda = cross_val_score(pipe_svc, X_train_lda, y_train, cv = 5)\n",
        "\n",
        "print('CV accuracy: %.3f +/- %.3f' % (np.mean(scores_svc_lda),\n",
        "                                      np.std(scores_svc_lda)))"
      ],
      "execution_count": null,
      "outputs": []
    },
    {
      "cell_type": "code",
      "metadata": {
        "id": "oPJhTHKQoleE"
      },
      "source": [
        "scores_rfc_lda = cross_val_score(forest, X_train_lda, y_train, cv = 5)\n",
        "\n",
        "print('CV accuracy: %.3f +/- %.3f' % (np.mean(scores_rfc_lda),\n",
        "                                      np.std(scores_rfc_lda)))"
      ],
      "execution_count": null,
      "outputs": []
    },
    {
      "cell_type": "markdown",
      "metadata": {
        "id": "2Xo7LOqYvT3w"
      },
      "source": [
        "**2.5.4 Estimate models with KPCA**"
      ]
    },
    {
      "cell_type": "code",
      "metadata": {
        "id": "-_NN3PgHx65T"
      },
      "source": [
        "scores_svc_kcpa = cross_val_score(pipe_svc, X_skernpca, y_train, cv = 5)\n",
        "\n",
        "print('CV accuracy: %.3f +/- %.3f' % (np.mean(scores_svc_kcpa),\n",
        "                                      np.std(scores_svc_kcpa)))"
      ],
      "execution_count": null,
      "outputs": []
    },
    {
      "cell_type": "code",
      "metadata": {
        "id": "4OuJ4nPovYwY"
      },
      "source": [
        "scores_svc_kcpa = cross_val_score(forest, X_skernpca, y_train, cv = 5)\n",
        "\n",
        "print('CV accuracy: %.3f +/- %.3f' % (np.mean(scores_svc_kcpa),\n",
        "                                      np.std(scores_svc_kcpa)))"
      ],
      "execution_count": null,
      "outputs": []
    },
    {
      "cell_type": "markdown",
      "metadata": {
        "id": "vHmrd8Hxw78C"
      },
      "source": [
        "From these accuracy scores, we see that the feature selection methods do not improve the performance of the model"
      ]
    },
    {
      "cell_type": "markdown",
      "metadata": {
        "id": "JEPLH23SyN3-"
      },
      "source": [
        "###**2.6 Increasing sample size**\n",
        "\n",
        "Next, we try increasing the sample size to see if that improves the accuracy of models. We increase the sample size to 35000. Because of the large sample size, we store the results of the learning curve in a file using pickle"
      ]
    },
    {
      "cell_type": "code",
      "metadata": {
        "id": "evr3hfd9y3Gg"
      },
      "source": [
        "# Code : https://www.statology.org/stratified-sampling-pandas/\n",
        "#define total sample size desired\n",
        "N = 35000\n",
        "\n",
        "#perform stratified random sampling\n",
        "sample_final_2=final.groupby('Status', group_keys=False).apply(lambda x: x.sample(int(np.rint(N*len(x)/len(final))))).sample(frac=1, replace=True).reset_index(drop=True)"
      ],
      "execution_count": null,
      "outputs": []
    },
    {
      "cell_type": "code",
      "metadata": {
        "id": "9ubIVy681Q8O"
      },
      "source": [
        "X, y = sample_final_2.iloc[:, 2:].values, sample_final_2.iloc[:, 1].values  \n",
        "\n",
        "X_train, X_test, y_train, y_test =\\\n",
        "    train_test_split(X, y, \n",
        "                     test_size=0.2,random_state=1,stratify=y)\n",
        "    "
      ],
      "execution_count": null,
      "outputs": []
    },
    {
      "cell_type": "code",
      "metadata": {
        "id": "hVqrcVI410vL"
      },
      "source": [
        "X_train_df = pd.DataFrame(X_train)\n",
        "X_train_df.columns = sample_final.iloc[:, 2:].columns\n",
        "X_train_df = pd.get_dummies(X_train_df, drop_first=True,\n",
        "                            columns = ['Gender', 'Car','Property','Education_level','Family_status','Housing_type','Income_type','Occupation'] )"
      ],
      "execution_count": null,
      "outputs": []
    },
    {
      "cell_type": "code",
      "metadata": {
        "id": "Z9urmvjQ4QoS"
      },
      "source": [
        "forest = RandomForestClassifier(n_estimators=250,\n",
        "                                random_state=1)\n",
        "\n",
        "scores_rfc_2 = cross_val_score(forest, X_train_df, y_train, cv = 5)\n",
        "\n",
        "print('CV accuracy: %.3f +/- %.3f' % (np.mean(scores_rfc_2),\n",
        "                                      np.std(scores_rfc_2)))"
      ],
      "execution_count": null,
      "outputs": []
    },
    {
      "cell_type": "code",
      "metadata": {
        "id": "VXZSoWvh12AP"
      },
      "source": [
        "#train_sizes, train_scores, test_scores =\\\n",
        "#                learning_curve(estimator=forest,\n",
        "#                               X=X_train_df,\n",
        "#                               y=y_train,\n",
        "#                               train_sizes=np.linspace(0.1, 1.0, 10),\n",
        "#                               cv=5,\n",
        "#                               n_jobs=-1)\n",
        "                "
      ],
      "execution_count": null,
      "outputs": []
    },
    {
      "cell_type": "code",
      "metadata": {
        "id": "JKst-EH47hcE"
      },
      "source": [
        "#with open('train_sizes_2', 'wb') as f:\n",
        "#  pickle.dump(train_sizes, f)\n",
        "\n",
        "#with open('train_scores_2', 'wb') as f:\n",
        "#  pickle.dump(train_scores, f)\n",
        "\n",
        "#with open('test_scores_2', 'wb') as f:\n",
        "#  pickle.dump(test_scores, f)"
      ],
      "execution_count": null,
      "outputs": []
    },
    {
      "cell_type": "code",
      "metadata": {
        "id": "UvwGzZd27gOe"
      },
      "source": [
        "with open('Pickle_Files/train_sizes_2', 'rb') as f:\n",
        "  train_sizes = pickle.load(f)\n",
        "\n",
        "with open('Pickle_Files/train_scores_2', 'rb') as f:\n",
        "  train_scores = pickle.load(f)\n",
        "\n",
        "with open('Pickle_Files/test_scores_2', 'rb') as f:\n",
        "  test_scores = pickle.load(f)"
      ],
      "execution_count": null,
      "outputs": []
    },
    {
      "cell_type": "code",
      "metadata": {
        "id": "vEByn-uw2xS5"
      },
      "source": [
        "train_mean = np.mean(train_scores, axis=1)\n",
        "train_std = np.std(train_scores, axis=1)\n",
        "test_mean = np.mean(test_scores, axis=1)\n",
        "test_std = np.std(test_scores, axis=1)\n",
        "\n",
        "plt.title('Learning Curve - Random Forest Classifier')\n",
        "plt.plot(train_sizes, train_mean,\n",
        "         color='blue', marker='o',\n",
        "         markersize=5, label='Training accuracy')\n",
        "\n",
        "plt.fill_between(train_sizes,\n",
        "                 train_mean + train_std,\n",
        "                 train_mean - train_std,\n",
        "                 alpha=0.15, color='blue')\n",
        "\n",
        "plt.plot(train_sizes, test_mean,\n",
        "         color='green', linestyle='--',\n",
        "         marker='s', markersize=5,\n",
        "         label='Validation accuracy')\n",
        "\n",
        "plt.fill_between(train_sizes,\n",
        "                 test_mean + test_std,\n",
        "                 test_mean - test_std,\n",
        "                 alpha=0.15, color='green')\n",
        "\n",
        "plt.grid()\n",
        "plt.xlabel('Number of training examples')\n",
        "plt.ylabel('Accuracy')\n",
        "plt.legend(loc='upper right')\n",
        "plt.ylim([0.3, 1.03])\n",
        "plt.tight_layout()\n",
        "# plt.savefig('images/06_05.png', dpi=300)\n",
        "plt.show()"
      ],
      "execution_count": null,
      "outputs": []
    },
    {
      "cell_type": "code",
      "metadata": {
        "id": "Cv4Se3CcCKfq"
      },
      "source": [
        "#pipe_svc = make_pipeline(StandardScaler(),\n",
        "#                         SVC(random_state=1, C=10, gamma=10, kernel='rbf'))\n",
        "\n",
        "#scores_svc_2 = cross_val_score(pipe_svc, X_train_df, y_train, cv = 5)\n",
        "\n",
        "#print('CV accuracy: %.3f +/- %.3f' % (np.mean(scores_svc_2),\n",
        "#                                      np.std(scores_svc_2)))"
      ],
      "execution_count": null,
      "outputs": []
    },
    {
      "cell_type": "code",
      "metadata": {
        "id": "Zg8-mRu3DSrR"
      },
      "source": [
        "#with open('svc_pickle_2', 'wb') as f:\n",
        "#  pickle.dump(scores_svc_2, f)"
      ],
      "execution_count": null,
      "outputs": []
    },
    {
      "cell_type": "code",
      "metadata": {
        "id": "ipJ651osDsMa"
      },
      "source": [
        "with open('Pickle_Files/svc_pickle_2', 'rb') as f:\n",
        "  svc_scores_2 = pickle.load(f)"
      ],
      "execution_count": null,
      "outputs": []
    },
    {
      "cell_type": "code",
      "metadata": {
        "id": "QgVXQ_D2dzFE"
      },
      "source": [
        "print('CV accuracy: %.3f +/- %.3f' % (np.mean(svc_scores_2),\n",
        "                                      np.std(svc_scores_2)))"
      ],
      "execution_count": null,
      "outputs": []
    },
    {
      "cell_type": "code",
      "metadata": {
        "id": "WYgESwOlEPV1"
      },
      "source": [
        "#train_sizes, train_scores, test_scores =\\\n",
        "#                learning_curve(estimator=pipe_svc,\n",
        "#                               X=X_train_df,\n",
        "#                               y=y_train,\n",
        "#                               train_sizes=np.linspace(0.1, 1.0, 10),\n",
        "#                               cv=5,\n",
        "#                               n_jobs=-1)\n",
        "                "
      ],
      "execution_count": null,
      "outputs": []
    },
    {
      "cell_type": "code",
      "metadata": {
        "id": "CXi9U-1DEodf"
      },
      "source": [
        "#with open('train_sizes_3', 'wb') as f:\n",
        "#  pickle.dump(train_sizes, f)\n",
        "\n",
        "#with open('train_scores_3', 'wb') as f:\n",
        "#  pickle.dump(train_scores, f)\n",
        "\n",
        "#with open('test_scores_3', 'wb') as f:\n",
        "#  pickle.dump(test_scores, f)"
      ],
      "execution_count": null,
      "outputs": []
    },
    {
      "cell_type": "code",
      "metadata": {
        "id": "4u92TE6IEwDC"
      },
      "source": [
        "with open('Pickle_Files/train_sizes_3', 'rb') as f:\n",
        "  train_sizes = pickle.load(f)\n",
        "\n",
        "with open('Pickle_Files/train_scores_3', 'rb') as f:\n",
        "  train_scores = pickle.load(f)\n",
        "\n",
        "with open('Pickle_Files/test_scores_3', 'rb') as f:\n",
        "  test_scores = pickle.load(f)"
      ],
      "execution_count": null,
      "outputs": []
    },
    {
      "cell_type": "code",
      "metadata": {
        "id": "GC63XI2SE4IP"
      },
      "source": [
        "train_mean = np.mean(train_scores, axis=1)\n",
        "train_std = np.std(train_scores, axis=1)\n",
        "test_mean = np.mean(test_scores, axis=1)\n",
        "test_std = np.std(test_scores, axis=1)\n",
        "\n",
        "plt.title('Learning Curve - Support Vector Classifier')\n",
        "plt.plot(train_sizes, train_mean,\n",
        "         color='blue', marker='o',\n",
        "         markersize=5, label='Training accuracy')\n",
        "\n",
        "plt.fill_between(train_sizes,\n",
        "                 train_mean + train_std,\n",
        "                 train_mean - train_std,\n",
        "                 alpha=0.15, color='blue')\n",
        "\n",
        "plt.plot(train_sizes, test_mean,\n",
        "         color='green', linestyle='--',\n",
        "         marker='s', markersize=5,\n",
        "         label='Validation accuracy')\n",
        "\n",
        "plt.fill_between(train_sizes,\n",
        "                 test_mean + test_std,\n",
        "                 test_mean - test_std,\n",
        "                 alpha=0.15, color='green')\n",
        "\n",
        "plt.grid()\n",
        "plt.xlabel('Number of training examples')\n",
        "plt.ylabel('Accuracy')\n",
        "plt.legend(loc='upper right')\n",
        "plt.ylim([0.3, 1.03])\n",
        "plt.tight_layout()\n",
        "# plt.savefig('images/06_05.png', dpi=300)\n",
        "plt.show()"
      ],
      "execution_count": null,
      "outputs": []
    },
    {
      "cell_type": "markdown",
      "metadata": {
        "id": "fE0r6sGXArva"
      },
      "source": [
        "From this analysis, we see that increasing the sample size does not increase the performance. The training and validation scores converge to about the same accuracy score of 63%"
      ]
    },
    {
      "cell_type": "markdown",
      "metadata": {
        "id": "WSAeE2gTSPLC"
      },
      "source": [
        "###**2.7 Predicting labels on test set and visualizing results**"
      ]
    },
    {
      "cell_type": "markdown",
      "metadata": {
        "id": "EEHwz7W1zOGG"
      },
      "source": [
        "We will analyze the results of the model using the test data set and visualizations such as a Confusion Matrix and a visualization of the random forest"
      ]
    },
    {
      "cell_type": "code",
      "metadata": {
        "id": "NP5ZYLafzRkl"
      },
      "source": [
        "#replicating column transformations for test dataset\n",
        "X_test_df = pd.DataFrame(X_test)\n",
        "X_test_df.columns = sample_final.iloc[:, 2:].columns\n",
        "X_test_df = pd.get_dummies(X_test_df, drop_first=True,\n",
        "                            columns = ['Gender', 'Car','Property','Education_level','Family_status','Housing_type','Income_type','Occupation'] )\n"
      ],
      "execution_count": null,
      "outputs": []
    },
    {
      "cell_type": "code",
      "metadata": {
        "id": "7frLijW__pnb"
      },
      "source": [
        "from sklearn.metrics import accuracy_score\n",
        "\n",
        "forest.fit(X_train_df,y_train)\n",
        "\n",
        "y_pred = forest.predict(X_test_df)\n",
        "\n",
        "accuracy_score(y_test, y_pred)"
      ],
      "execution_count": null,
      "outputs": []
    },
    {
      "cell_type": "code",
      "metadata": {
        "id": "uJyalP7XzlVB"
      },
      "source": [
        "from sklearn.metrics import confusion_matrix\n",
        "\n",
        "confmat = confusion_matrix(y_true=y_test, y_pred=y_pred)\n",
        "\n",
        "print(confmat)"
      ],
      "execution_count": null,
      "outputs": []
    },
    {
      "cell_type": "code",
      "metadata": {
        "id": "4uwWmK840bvx"
      },
      "source": [
        "fig, ax = plt.subplots(figsize=(2.5, 2.5))\n",
        "ax.matshow(confmat, cmap=plt.cm.Blues, alpha=0.3)\n",
        "for i in range(confmat.shape[0]):\n",
        "  for j in range(confmat.shape[0]):\n",
        "    ax.text(x=j, y=i,\n",
        "            s=confmat[i,j],\n",
        "            va='center',ha='center')\n",
        "plt.xlabel('Predicted label')\n",
        "plt.ylabel('True label')\n",
        "plt.show()"
      ],
      "execution_count": null,
      "outputs": []
    },
    {
      "cell_type": "markdown",
      "metadata": {
        "id": "HeFQxzCsFtqw"
      },
      "source": [
        "###**2.8 Visualize Random Forest and Individual Decision Tree**\n",
        "source: https://towardsdatascience.com/how-to-visualize-a-decision-tree-from-a-random-forest-in-python-using-scikit-learn-38ad2d75f21c"
      ]
    },
    {
      "cell_type": "code",
      "metadata": {
        "id": "BtUIEaOREfoQ"
      },
      "source": [
        "forest_3 = RandomForestClassifier(max_depth=None, n_estimators=250,\n",
        "                                random_state=1)\n",
        "\n",
        "forest_3.fit(X_train_df,y_train)\n",
        "\n",
        "estimator_limited = forest.estimators_[5]"
      ],
      "execution_count": null,
      "outputs": []
    },
    {
      "cell_type": "code",
      "metadata": {
        "id": "ycgB678EEoga"
      },
      "source": [
        "from sklearn.tree import export_graphviz\n",
        "\n",
        "export_graphviz(estimator_limited, out_file='tree_limited.dot', feature_names = X_train_df.columns,\n",
        "                class_names = ['No Loans', 'Paid-off' , '1-29 days past due', '>30 days past due'],\n",
        "                rounded = True, proportion = False, precision = 2, filled = True)"
      ],
      "execution_count": null,
      "outputs": []
    },
    {
      "cell_type": "code",
      "metadata": {
        "id": "NA30DrTaFcui"
      },
      "source": [
        "!dot -Tpng tree_limited.dot -o tree_limited.png"
      ],
      "execution_count": null,
      "outputs": []
    },
    {
      "cell_type": "code",
      "metadata": {
        "id": "LOd05aGOFgZH"
      },
      "source": [
        "from IPython.display import Image\n",
        "Image(filename = 'tree_limited.png')"
      ],
      "execution_count": null,
      "outputs": []
    },
    {
      "cell_type": "markdown",
      "metadata": {
        "id": "5jW9ndlN-qfW"
      },
      "source": [
        "## **III/ Conclusion and lessons learned**"
      ]
    },
    {
      "cell_type": "markdown",
      "metadata": {
        "id": "E3jGjcVAOUSB"
      },
      "source": [
        "- Data cleaning and pre-processing is paramount to effectively apply machine learning model\n",
        "- Choosing between encoding methods for categorical data is challenging because it adds more columns than the original datasets(get_dummies, one-hot encoding)  \n",
        "- We learn the importance of downsizing our dataset to shorten code runtime\n",
        "- Models performed poorly, even after fine-tuning and feature reduction\n",
        "Learning curve suggests overfitting\n",
        "- Most features were categorical. The three most important features were the only non-categorical features, except for number of children, which has a limited range of values \n",
        "- Complexity did not seem to be the issue since performance reduced when only three features were used\n",
        "- More relevant features with more variation may be considered for better performance\n",
        "- A larger range of models could also be considered for better performance\n"
      ]
    }
  ]
}